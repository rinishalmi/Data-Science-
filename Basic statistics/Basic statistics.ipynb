{
 "cells": [
  {
   "cell_type": "markdown",
   "id": "49722da6-01ce-49ec-af10-8fdbb7d00802",
   "metadata": {},
   "source": [
    "# Basic Statistics"
   ]
  },
  {
   "cell_type": "markdown",
   "id": "72945e08-edb4-480c-b99e-9f5e5da0b970",
   "metadata": {},
   "source": [
    "## Descriptive Analytics for Numerical Columns"
   ]
  },
  {
   "cell_type": "code",
   "execution_count": 70,
   "id": "d6421565-59ea-44db-b1f1-a21dc569fb61",
   "metadata": {},
   "outputs": [],
   "source": [
    "import pandas as pd\n",
    "import numpy as np"
   ]
  },
  {
   "cell_type": "code",
   "execution_count": 34,
   "id": "276f679a-b071-4f6a-b016-239f5d8da744",
   "metadata": {},
   "outputs": [],
   "source": [
    "df=pd.read_csv('sales_data_with_discounts.csv')\n"
   ]
  },
  {
   "cell_type": "code",
   "execution_count": 35,
   "id": "6f1b9d45-9757-4756-a832-0bed7b91df3f",
   "metadata": {},
   "outputs": [
    {
     "data": {
      "text/html": [
       "<div>\n",
       "<style scoped>\n",
       "    .dataframe tbody tr th:only-of-type {\n",
       "        vertical-align: middle;\n",
       "    }\n",
       "\n",
       "    .dataframe tbody tr th {\n",
       "        vertical-align: top;\n",
       "    }\n",
       "\n",
       "    .dataframe thead th {\n",
       "        text-align: right;\n",
       "    }\n",
       "</style>\n",
       "<table border=\"1\" class=\"dataframe\">\n",
       "  <thead>\n",
       "    <tr style=\"text-align: right;\">\n",
       "      <th></th>\n",
       "      <th>Date</th>\n",
       "      <th>Day</th>\n",
       "      <th>SKU</th>\n",
       "      <th>City</th>\n",
       "      <th>Volume</th>\n",
       "      <th>BU</th>\n",
       "      <th>Brand</th>\n",
       "      <th>Model</th>\n",
       "      <th>Avg Price</th>\n",
       "      <th>Total Sales Value</th>\n",
       "      <th>Discount Rate (%)</th>\n",
       "      <th>Discount Amount</th>\n",
       "      <th>Net Sales Value</th>\n",
       "    </tr>\n",
       "  </thead>\n",
       "  <tbody>\n",
       "    <tr>\n",
       "      <th>0</th>\n",
       "      <td>01-04-2021</td>\n",
       "      <td>Thursday</td>\n",
       "      <td>M01</td>\n",
       "      <td>C</td>\n",
       "      <td>15</td>\n",
       "      <td>Mobiles</td>\n",
       "      <td>RealU</td>\n",
       "      <td>RU-10</td>\n",
       "      <td>12100</td>\n",
       "      <td>181500</td>\n",
       "      <td>11.654820</td>\n",
       "      <td>21153.498820</td>\n",
       "      <td>160346.501180</td>\n",
       "    </tr>\n",
       "    <tr>\n",
       "      <th>1</th>\n",
       "      <td>01-04-2021</td>\n",
       "      <td>Thursday</td>\n",
       "      <td>M02</td>\n",
       "      <td>C</td>\n",
       "      <td>10</td>\n",
       "      <td>Mobiles</td>\n",
       "      <td>RealU</td>\n",
       "      <td>RU-9 Plus</td>\n",
       "      <td>10100</td>\n",
       "      <td>101000</td>\n",
       "      <td>11.560498</td>\n",
       "      <td>11676.102961</td>\n",
       "      <td>89323.897039</td>\n",
       "    </tr>\n",
       "    <tr>\n",
       "      <th>2</th>\n",
       "      <td>01-04-2021</td>\n",
       "      <td>Thursday</td>\n",
       "      <td>M03</td>\n",
       "      <td>C</td>\n",
       "      <td>7</td>\n",
       "      <td>Mobiles</td>\n",
       "      <td>YouM</td>\n",
       "      <td>YM-99</td>\n",
       "      <td>16100</td>\n",
       "      <td>112700</td>\n",
       "      <td>9.456886</td>\n",
       "      <td>10657.910157</td>\n",
       "      <td>102042.089843</td>\n",
       "    </tr>\n",
       "    <tr>\n",
       "      <th>3</th>\n",
       "      <td>01-04-2021</td>\n",
       "      <td>Thursday</td>\n",
       "      <td>M04</td>\n",
       "      <td>C</td>\n",
       "      <td>6</td>\n",
       "      <td>Mobiles</td>\n",
       "      <td>YouM</td>\n",
       "      <td>YM-99 Plus</td>\n",
       "      <td>20100</td>\n",
       "      <td>120600</td>\n",
       "      <td>6.935385</td>\n",
       "      <td>8364.074702</td>\n",
       "      <td>112235.925298</td>\n",
       "    </tr>\n",
       "    <tr>\n",
       "      <th>4</th>\n",
       "      <td>01-04-2021</td>\n",
       "      <td>Thursday</td>\n",
       "      <td>M05</td>\n",
       "      <td>C</td>\n",
       "      <td>3</td>\n",
       "      <td>Mobiles</td>\n",
       "      <td>YouM</td>\n",
       "      <td>YM-98</td>\n",
       "      <td>8100</td>\n",
       "      <td>24300</td>\n",
       "      <td>17.995663</td>\n",
       "      <td>4372.946230</td>\n",
       "      <td>19927.053770</td>\n",
       "    </tr>\n",
       "  </tbody>\n",
       "</table>\n",
       "</div>"
      ],
      "text/plain": [
       "         Date       Day  SKU City  Volume       BU  Brand       Model  \\\n",
       "0  01-04-2021  Thursday  M01    C      15  Mobiles  RealU       RU-10   \n",
       "1  01-04-2021  Thursday  M02    C      10  Mobiles  RealU   RU-9 Plus   \n",
       "2  01-04-2021  Thursday  M03    C       7  Mobiles   YouM       YM-99   \n",
       "3  01-04-2021  Thursday  M04    C       6  Mobiles   YouM  YM-99 Plus   \n",
       "4  01-04-2021  Thursday  M05    C       3  Mobiles   YouM      YM-98    \n",
       "\n",
       "   Avg Price  Total Sales Value  Discount Rate (%)  Discount Amount  \\\n",
       "0      12100             181500          11.654820     21153.498820   \n",
       "1      10100             101000          11.560498     11676.102961   \n",
       "2      16100             112700           9.456886     10657.910157   \n",
       "3      20100             120600           6.935385      8364.074702   \n",
       "4       8100              24300          17.995663      4372.946230   \n",
       "\n",
       "   Net Sales Value  \n",
       "0    160346.501180  \n",
       "1     89323.897039  \n",
       "2    102042.089843  \n",
       "3    112235.925298  \n",
       "4     19927.053770  "
      ]
     },
     "execution_count": 35,
     "metadata": {},
     "output_type": "execute_result"
    }
   ],
   "source": [
    "df.head()"
   ]
  },
  {
   "cell_type": "code",
   "execution_count": 36,
   "id": "9d97cda0-5d0d-4899-826c-4bc5ed43b884",
   "metadata": {},
   "outputs": [
    {
     "data": {
      "text/html": [
       "<div>\n",
       "<style scoped>\n",
       "    .dataframe tbody tr th:only-of-type {\n",
       "        vertical-align: middle;\n",
       "    }\n",
       "\n",
       "    .dataframe tbody tr th {\n",
       "        vertical-align: top;\n",
       "    }\n",
       "\n",
       "    .dataframe thead th {\n",
       "        text-align: right;\n",
       "    }\n",
       "</style>\n",
       "<table border=\"1\" class=\"dataframe\">\n",
       "  <thead>\n",
       "    <tr style=\"text-align: right;\">\n",
       "      <th></th>\n",
       "      <th>Date</th>\n",
       "      <th>Day</th>\n",
       "      <th>SKU</th>\n",
       "      <th>City</th>\n",
       "      <th>Volume</th>\n",
       "      <th>BU</th>\n",
       "      <th>Brand</th>\n",
       "      <th>Model</th>\n",
       "      <th>Avg Price</th>\n",
       "      <th>Total Sales Value</th>\n",
       "      <th>Discount Rate (%)</th>\n",
       "      <th>Discount Amount</th>\n",
       "      <th>Net Sales Value</th>\n",
       "    </tr>\n",
       "  </thead>\n",
       "  <tbody>\n",
       "    <tr>\n",
       "      <th>445</th>\n",
       "      <td>15-04-2021</td>\n",
       "      <td>Thursday</td>\n",
       "      <td>L06</td>\n",
       "      <td>C</td>\n",
       "      <td>2</td>\n",
       "      <td>Lifestyle</td>\n",
       "      <td>Jeera</td>\n",
       "      <td>M-Casuals</td>\n",
       "      <td>1300</td>\n",
       "      <td>2600</td>\n",
       "      <td>15.475687</td>\n",
       "      <td>402.367873</td>\n",
       "      <td>2197.632127</td>\n",
       "    </tr>\n",
       "    <tr>\n",
       "      <th>446</th>\n",
       "      <td>15-04-2021</td>\n",
       "      <td>Thursday</td>\n",
       "      <td>L07</td>\n",
       "      <td>C</td>\n",
       "      <td>6</td>\n",
       "      <td>Lifestyle</td>\n",
       "      <td>Viva</td>\n",
       "      <td>W-Western</td>\n",
       "      <td>2600</td>\n",
       "      <td>15600</td>\n",
       "      <td>17.057027</td>\n",
       "      <td>2660.896242</td>\n",
       "      <td>12939.103758</td>\n",
       "    </tr>\n",
       "    <tr>\n",
       "      <th>447</th>\n",
       "      <td>15-04-2021</td>\n",
       "      <td>Thursday</td>\n",
       "      <td>L08</td>\n",
       "      <td>C</td>\n",
       "      <td>2</td>\n",
       "      <td>Lifestyle</td>\n",
       "      <td>Viva</td>\n",
       "      <td>W-Lounge</td>\n",
       "      <td>1600</td>\n",
       "      <td>3200</td>\n",
       "      <td>18.965550</td>\n",
       "      <td>606.897606</td>\n",
       "      <td>2593.102394</td>\n",
       "    </tr>\n",
       "    <tr>\n",
       "      <th>448</th>\n",
       "      <td>15-04-2021</td>\n",
       "      <td>Thursday</td>\n",
       "      <td>L09</td>\n",
       "      <td>C</td>\n",
       "      <td>3</td>\n",
       "      <td>Lifestyle</td>\n",
       "      <td>Jeera</td>\n",
       "      <td>M-Formals</td>\n",
       "      <td>1900</td>\n",
       "      <td>5700</td>\n",
       "      <td>16.793014</td>\n",
       "      <td>957.201826</td>\n",
       "      <td>4742.798174</td>\n",
       "    </tr>\n",
       "    <tr>\n",
       "      <th>449</th>\n",
       "      <td>15-04-2021</td>\n",
       "      <td>Thursday</td>\n",
       "      <td>L10</td>\n",
       "      <td>C</td>\n",
       "      <td>1</td>\n",
       "      <td>Lifestyle</td>\n",
       "      <td>Jeera</td>\n",
       "      <td>M-Shoes</td>\n",
       "      <td>3100</td>\n",
       "      <td>3100</td>\n",
       "      <td>15.333300</td>\n",
       "      <td>475.332295</td>\n",
       "      <td>2624.667705</td>\n",
       "    </tr>\n",
       "  </tbody>\n",
       "</table>\n",
       "</div>"
      ],
      "text/plain": [
       "           Date       Day  SKU City  Volume         BU  Brand      Model  \\\n",
       "445  15-04-2021  Thursday  L06    C       2  Lifestyle  Jeera  M-Casuals   \n",
       "446  15-04-2021  Thursday  L07    C       6  Lifestyle   Viva  W-Western   \n",
       "447  15-04-2021  Thursday  L08    C       2  Lifestyle   Viva   W-Lounge   \n",
       "448  15-04-2021  Thursday  L09    C       3  Lifestyle  Jeera  M-Formals   \n",
       "449  15-04-2021  Thursday  L10    C       1  Lifestyle  Jeera    M-Shoes   \n",
       "\n",
       "     Avg Price  Total Sales Value  Discount Rate (%)  Discount Amount  \\\n",
       "445       1300               2600          15.475687       402.367873   \n",
       "446       2600              15600          17.057027      2660.896242   \n",
       "447       1600               3200          18.965550       606.897606   \n",
       "448       1900               5700          16.793014       957.201826   \n",
       "449       3100               3100          15.333300       475.332295   \n",
       "\n",
       "     Net Sales Value  \n",
       "445      2197.632127  \n",
       "446     12939.103758  \n",
       "447      2593.102394  \n",
       "448      4742.798174  \n",
       "449      2624.667705  "
      ]
     },
     "execution_count": 36,
     "metadata": {},
     "output_type": "execute_result"
    }
   ],
   "source": [
    "df.tail()"
   ]
  },
  {
   "cell_type": "code",
   "execution_count": 37,
   "id": "53a3c337-599f-460f-86c2-fa475c188a17",
   "metadata": {},
   "outputs": [
    {
     "data": {
      "text/plain": [
       "(450, 13)"
      ]
     },
     "execution_count": 37,
     "metadata": {},
     "output_type": "execute_result"
    }
   ],
   "source": [
    "df.shape\n"
   ]
  },
  {
   "cell_type": "code",
   "execution_count": 38,
   "id": "cd418dab-15b8-4e5b-bc9c-db843540aaa4",
   "metadata": {},
   "outputs": [
    {
     "data": {
      "text/html": [
       "<div>\n",
       "<style scoped>\n",
       "    .dataframe tbody tr th:only-of-type {\n",
       "        vertical-align: middle;\n",
       "    }\n",
       "\n",
       "    .dataframe tbody tr th {\n",
       "        vertical-align: top;\n",
       "    }\n",
       "\n",
       "    .dataframe thead th {\n",
       "        text-align: right;\n",
       "    }\n",
       "</style>\n",
       "<table border=\"1\" class=\"dataframe\">\n",
       "  <thead>\n",
       "    <tr style=\"text-align: right;\">\n",
       "      <th></th>\n",
       "      <th>Volume</th>\n",
       "      <th>Avg Price</th>\n",
       "      <th>Total Sales Value</th>\n",
       "      <th>Discount Rate (%)</th>\n",
       "      <th>Discount Amount</th>\n",
       "      <th>Net Sales Value</th>\n",
       "    </tr>\n",
       "  </thead>\n",
       "  <tbody>\n",
       "    <tr>\n",
       "      <th>0</th>\n",
       "      <td>15</td>\n",
       "      <td>12100</td>\n",
       "      <td>181500</td>\n",
       "      <td>11.654820</td>\n",
       "      <td>21153.498820</td>\n",
       "      <td>160346.501180</td>\n",
       "    </tr>\n",
       "    <tr>\n",
       "      <th>1</th>\n",
       "      <td>10</td>\n",
       "      <td>10100</td>\n",
       "      <td>101000</td>\n",
       "      <td>11.560498</td>\n",
       "      <td>11676.102961</td>\n",
       "      <td>89323.897039</td>\n",
       "    </tr>\n",
       "    <tr>\n",
       "      <th>2</th>\n",
       "      <td>7</td>\n",
       "      <td>16100</td>\n",
       "      <td>112700</td>\n",
       "      <td>9.456886</td>\n",
       "      <td>10657.910157</td>\n",
       "      <td>102042.089843</td>\n",
       "    </tr>\n",
       "    <tr>\n",
       "      <th>3</th>\n",
       "      <td>6</td>\n",
       "      <td>20100</td>\n",
       "      <td>120600</td>\n",
       "      <td>6.935385</td>\n",
       "      <td>8364.074702</td>\n",
       "      <td>112235.925298</td>\n",
       "    </tr>\n",
       "    <tr>\n",
       "      <th>4</th>\n",
       "      <td>3</td>\n",
       "      <td>8100</td>\n",
       "      <td>24300</td>\n",
       "      <td>17.995663</td>\n",
       "      <td>4372.946230</td>\n",
       "      <td>19927.053770</td>\n",
       "    </tr>\n",
       "    <tr>\n",
       "      <th>...</th>\n",
       "      <td>...</td>\n",
       "      <td>...</td>\n",
       "      <td>...</td>\n",
       "      <td>...</td>\n",
       "      <td>...</td>\n",
       "      <td>...</td>\n",
       "    </tr>\n",
       "    <tr>\n",
       "      <th>445</th>\n",
       "      <td>2</td>\n",
       "      <td>1300</td>\n",
       "      <td>2600</td>\n",
       "      <td>15.475687</td>\n",
       "      <td>402.367873</td>\n",
       "      <td>2197.632127</td>\n",
       "    </tr>\n",
       "    <tr>\n",
       "      <th>446</th>\n",
       "      <td>6</td>\n",
       "      <td>2600</td>\n",
       "      <td>15600</td>\n",
       "      <td>17.057027</td>\n",
       "      <td>2660.896242</td>\n",
       "      <td>12939.103758</td>\n",
       "    </tr>\n",
       "    <tr>\n",
       "      <th>447</th>\n",
       "      <td>2</td>\n",
       "      <td>1600</td>\n",
       "      <td>3200</td>\n",
       "      <td>18.965550</td>\n",
       "      <td>606.897606</td>\n",
       "      <td>2593.102394</td>\n",
       "    </tr>\n",
       "    <tr>\n",
       "      <th>448</th>\n",
       "      <td>3</td>\n",
       "      <td>1900</td>\n",
       "      <td>5700</td>\n",
       "      <td>16.793014</td>\n",
       "      <td>957.201826</td>\n",
       "      <td>4742.798174</td>\n",
       "    </tr>\n",
       "    <tr>\n",
       "      <th>449</th>\n",
       "      <td>1</td>\n",
       "      <td>3100</td>\n",
       "      <td>3100</td>\n",
       "      <td>15.333300</td>\n",
       "      <td>475.332295</td>\n",
       "      <td>2624.667705</td>\n",
       "    </tr>\n",
       "  </tbody>\n",
       "</table>\n",
       "<p>450 rows × 6 columns</p>\n",
       "</div>"
      ],
      "text/plain": [
       "     Volume  Avg Price  Total Sales Value  Discount Rate (%)  Discount Amount  \\\n",
       "0        15      12100             181500          11.654820     21153.498820   \n",
       "1        10      10100             101000          11.560498     11676.102961   \n",
       "2         7      16100             112700           9.456886     10657.910157   \n",
       "3         6      20100             120600           6.935385      8364.074702   \n",
       "4         3       8100              24300          17.995663      4372.946230   \n",
       "..      ...        ...                ...                ...              ...   \n",
       "445       2       1300               2600          15.475687       402.367873   \n",
       "446       6       2600              15600          17.057027      2660.896242   \n",
       "447       2       1600               3200          18.965550       606.897606   \n",
       "448       3       1900               5700          16.793014       957.201826   \n",
       "449       1       3100               3100          15.333300       475.332295   \n",
       "\n",
       "     Net Sales Value  \n",
       "0      160346.501180  \n",
       "1       89323.897039  \n",
       "2      102042.089843  \n",
       "3      112235.925298  \n",
       "4       19927.053770  \n",
       "..               ...  \n",
       "445      2197.632127  \n",
       "446     12939.103758  \n",
       "447      2593.102394  \n",
       "448      4742.798174  \n",
       "449      2624.667705  \n",
       "\n",
       "[450 rows x 6 columns]"
      ]
     },
     "execution_count": 38,
     "metadata": {},
     "output_type": "execute_result"
    }
   ],
   "source": [
    "num_col= [i for i in df.columns if df[i].dtype!='O']\n",
    "df[num_col]"
   ]
  },
  {
   "cell_type": "markdown",
   "id": "aa8e8f45-f66c-4a4a-a096-b3c12539c001",
   "metadata": {},
   "source": [
    "## Mean"
   ]
  },
  {
   "cell_type": "code",
   "execution_count": 39,
   "id": "772abe37-4e62-49b9-8854-220d04b07b01",
   "metadata": {},
   "outputs": [
    {
     "data": {
      "text/plain": [
       "Volume                   5.066667\n",
       "Avg Price            10453.433333\n",
       "Total Sales Value    33812.835556\n",
       "Discount Rate (%)       15.155242\n",
       "Discount Amount       3346.499424\n",
       "Net Sales Value      30466.336131\n",
       "dtype: float64"
      ]
     },
     "execution_count": 39,
     "metadata": {},
     "output_type": "execute_result"
    }
   ],
   "source": [
    "mean_values=df[num_col].mean()\n",
    "mean_values"
   ]
  },
  {
   "cell_type": "code",
   "execution_count": 40,
   "id": "3cece20d-818e-4b0f-a32e-bebdd1e877a5",
   "metadata": {},
   "outputs": [],
   "source": [
    "mean_table = pd.DataFrame(mean_values, columns=['Mean']).reset_index() \n",
    "mean_table.rename(columns={'index': 'numerical_Column'}, inplace=True)"
   ]
  },
  {
   "cell_type": "code",
   "execution_count": 41,
   "id": "60e9be27-56b2-41be-bc71-baf484ef4598",
   "metadata": {},
   "outputs": [
    {
     "data": {
      "text/html": [
       "<div>\n",
       "<style scoped>\n",
       "    .dataframe tbody tr th:only-of-type {\n",
       "        vertical-align: middle;\n",
       "    }\n",
       "\n",
       "    .dataframe tbody tr th {\n",
       "        vertical-align: top;\n",
       "    }\n",
       "\n",
       "    .dataframe thead th {\n",
       "        text-align: right;\n",
       "    }\n",
       "</style>\n",
       "<table border=\"1\" class=\"dataframe\">\n",
       "  <thead>\n",
       "    <tr style=\"text-align: right;\">\n",
       "      <th></th>\n",
       "      <th>numerical_Column</th>\n",
       "      <th>Mean</th>\n",
       "    </tr>\n",
       "  </thead>\n",
       "  <tbody>\n",
       "    <tr>\n",
       "      <th>0</th>\n",
       "      <td>Volume</td>\n",
       "      <td>5.066667</td>\n",
       "    </tr>\n",
       "    <tr>\n",
       "      <th>1</th>\n",
       "      <td>Avg Price</td>\n",
       "      <td>10453.433333</td>\n",
       "    </tr>\n",
       "    <tr>\n",
       "      <th>2</th>\n",
       "      <td>Total Sales Value</td>\n",
       "      <td>33812.835556</td>\n",
       "    </tr>\n",
       "    <tr>\n",
       "      <th>3</th>\n",
       "      <td>Discount Rate (%)</td>\n",
       "      <td>15.155242</td>\n",
       "    </tr>\n",
       "    <tr>\n",
       "      <th>4</th>\n",
       "      <td>Discount Amount</td>\n",
       "      <td>3346.499424</td>\n",
       "    </tr>\n",
       "    <tr>\n",
       "      <th>5</th>\n",
       "      <td>Net Sales Value</td>\n",
       "      <td>30466.336131</td>\n",
       "    </tr>\n",
       "  </tbody>\n",
       "</table>\n",
       "</div>"
      ],
      "text/plain": [
       "    numerical_Column          Mean\n",
       "0             Volume      5.066667\n",
       "1          Avg Price  10453.433333\n",
       "2  Total Sales Value  33812.835556\n",
       "3  Discount Rate (%)     15.155242\n",
       "4    Discount Amount   3346.499424\n",
       "5    Net Sales Value  30466.336131"
      ]
     },
     "execution_count": 41,
     "metadata": {},
     "output_type": "execute_result"
    }
   ],
   "source": [
    "mean_table"
   ]
  },
  {
   "cell_type": "code",
   "execution_count": 42,
   "id": "e9f074d8-85de-48bd-a8b7-2f7483a9db0b",
   "metadata": {},
   "outputs": [],
   "source": [
    "## mean is the average of the column or the central value of the data set\n",
    "##mean represents the  average number in all numerical columns "
   ]
  },
  {
   "cell_type": "markdown",
   "id": "cba1165f-0ec1-407c-ab48-c753c9f140af",
   "metadata": {},
   "source": [
    "## Median"
   ]
  },
  {
   "cell_type": "code",
   "execution_count": 43,
   "id": "09aec1be-0d94-46c1-ad1d-0432eb261f3d",
   "metadata": {},
   "outputs": [
    {
     "data": {
      "text/plain": [
       "Volume                  4.000000\n",
       "Avg Price            1450.000000\n",
       "Total Sales Value    5700.000000\n",
       "Discount Rate (%)      16.577766\n",
       "Discount Amount       988.933733\n",
       "Net Sales Value      4677.788059\n",
       "dtype: float64"
      ]
     },
     "execution_count": 43,
     "metadata": {},
     "output_type": "execute_result"
    }
   ],
   "source": [
    "median_values=df[num_col].median()\n",
    "median_values"
   ]
  },
  {
   "cell_type": "code",
   "execution_count": 44,
   "id": "1f6d43bd-e666-4ad4-860e-77f3394fe517",
   "metadata": {},
   "outputs": [],
   "source": [
    "median_table=pd.DataFrame(median_values,columns=['Median']).reset_index()\n",
    "median_table.rename(columns={'index':'num_column'},inplace=True)"
   ]
  },
  {
   "cell_type": "code",
   "execution_count": 45,
   "id": "940c4488-f7b4-487d-a9e1-fa775781499d",
   "metadata": {},
   "outputs": [
    {
     "data": {
      "text/html": [
       "<div>\n",
       "<style scoped>\n",
       "    .dataframe tbody tr th:only-of-type {\n",
       "        vertical-align: middle;\n",
       "    }\n",
       "\n",
       "    .dataframe tbody tr th {\n",
       "        vertical-align: top;\n",
       "    }\n",
       "\n",
       "    .dataframe thead th {\n",
       "        text-align: right;\n",
       "    }\n",
       "</style>\n",
       "<table border=\"1\" class=\"dataframe\">\n",
       "  <thead>\n",
       "    <tr style=\"text-align: right;\">\n",
       "      <th></th>\n",
       "      <th>num_column</th>\n",
       "      <th>Median</th>\n",
       "    </tr>\n",
       "  </thead>\n",
       "  <tbody>\n",
       "    <tr>\n",
       "      <th>0</th>\n",
       "      <td>Volume</td>\n",
       "      <td>4.000000</td>\n",
       "    </tr>\n",
       "    <tr>\n",
       "      <th>1</th>\n",
       "      <td>Avg Price</td>\n",
       "      <td>1450.000000</td>\n",
       "    </tr>\n",
       "    <tr>\n",
       "      <th>2</th>\n",
       "      <td>Total Sales Value</td>\n",
       "      <td>5700.000000</td>\n",
       "    </tr>\n",
       "    <tr>\n",
       "      <th>3</th>\n",
       "      <td>Discount Rate (%)</td>\n",
       "      <td>16.577766</td>\n",
       "    </tr>\n",
       "    <tr>\n",
       "      <th>4</th>\n",
       "      <td>Discount Amount</td>\n",
       "      <td>988.933733</td>\n",
       "    </tr>\n",
       "    <tr>\n",
       "      <th>5</th>\n",
       "      <td>Net Sales Value</td>\n",
       "      <td>4677.788059</td>\n",
       "    </tr>\n",
       "  </tbody>\n",
       "</table>\n",
       "</div>"
      ],
      "text/plain": [
       "          num_column       Median\n",
       "0             Volume     4.000000\n",
       "1          Avg Price  1450.000000\n",
       "2  Total Sales Value  5700.000000\n",
       "3  Discount Rate (%)    16.577766\n",
       "4    Discount Amount   988.933733\n",
       "5    Net Sales Value  4677.788059"
      ]
     },
     "execution_count": 45,
     "metadata": {},
     "output_type": "execute_result"
    }
   ],
   "source": [
    "median_table"
   ]
  },
  {
   "cell_type": "code",
   "execution_count": 46,
   "id": "99e30fbf-7a0e-49bb-879e-d564af467068",
   "metadata": {},
   "outputs": [],
   "source": [
    "## median is the middle value after sorting the data"
   ]
  },
  {
   "cell_type": "markdown",
   "id": "f9ec0174-91aa-4be3-9013-e0ec6a4ea2d6",
   "metadata": {},
   "source": [
    "## Mode"
   ]
  },
  {
   "cell_type": "code",
   "execution_count": 47,
   "id": "e025dd2e-395f-44eb-8ae5-73c184526793",
   "metadata": {},
   "outputs": [
    {
     "data": {
      "text/plain": [
       "Volume                   3.000000\n",
       "Avg Price              400.000000\n",
       "Total Sales Value    24300.000000\n",
       "Discount Rate (%)        5.007822\n",
       "Discount Amount         69.177942\n",
       "Net Sales Value        326.974801\n",
       "Name: 0, dtype: float64"
      ]
     },
     "execution_count": 47,
     "metadata": {},
     "output_type": "execute_result"
    }
   ],
   "source": [
    "mode=df[num_col].mode().iloc[0]\n",
    "mode"
   ]
  },
  {
   "cell_type": "code",
   "execution_count": 48,
   "id": "b92e9eee-eb03-4d49-ace2-6104c59ef97a",
   "metadata": {},
   "outputs": [],
   "source": [
    "## mode give you the most frequently occuring data in a column\n",
    "##now it gives the first repeated value in each column"
   ]
  },
  {
   "cell_type": "markdown",
   "id": "01d7e4cb-bcb3-42c1-896e-f53e66fbb40b",
   "metadata": {},
   "source": [
    "## Standard_deviation"
   ]
  },
  {
   "cell_type": "code",
   "execution_count": 49,
   "id": "483d848a-5d68-4522-8f08-b5f519489039",
   "metadata": {},
   "outputs": [
    {
     "data": {
      "text/html": [
       "<div>\n",
       "<style scoped>\n",
       "    .dataframe tbody tr th:only-of-type {\n",
       "        vertical-align: middle;\n",
       "    }\n",
       "\n",
       "    .dataframe tbody tr th {\n",
       "        vertical-align: top;\n",
       "    }\n",
       "\n",
       "    .dataframe thead th {\n",
       "        text-align: right;\n",
       "    }\n",
       "</style>\n",
       "<table border=\"1\" class=\"dataframe\">\n",
       "  <thead>\n",
       "    <tr style=\"text-align: right;\">\n",
       "      <th></th>\n",
       "      <th>columns</th>\n",
       "      <th>Standard_deviation</th>\n",
       "    </tr>\n",
       "  </thead>\n",
       "  <tbody>\n",
       "    <tr>\n",
       "      <th>0</th>\n",
       "      <td>Volume</td>\n",
       "      <td>4.231602</td>\n",
       "    </tr>\n",
       "    <tr>\n",
       "      <th>1</th>\n",
       "      <td>Avg Price</td>\n",
       "      <td>18079.904840</td>\n",
       "    </tr>\n",
       "    <tr>\n",
       "      <th>2</th>\n",
       "      <td>Total Sales Value</td>\n",
       "      <td>50535.074173</td>\n",
       "    </tr>\n",
       "    <tr>\n",
       "      <th>3</th>\n",
       "      <td>Discount Rate (%)</td>\n",
       "      <td>4.220602</td>\n",
       "    </tr>\n",
       "    <tr>\n",
       "      <th>4</th>\n",
       "      <td>Discount Amount</td>\n",
       "      <td>4509.902963</td>\n",
       "    </tr>\n",
       "    <tr>\n",
       "      <th>5</th>\n",
       "      <td>Net Sales Value</td>\n",
       "      <td>46358.656624</td>\n",
       "    </tr>\n",
       "  </tbody>\n",
       "</table>\n",
       "</div>"
      ],
      "text/plain": [
       "             columns  Standard_deviation\n",
       "0             Volume            4.231602\n",
       "1          Avg Price        18079.904840\n",
       "2  Total Sales Value        50535.074173\n",
       "3  Discount Rate (%)            4.220602\n",
       "4    Discount Amount         4509.902963\n",
       "5    Net Sales Value        46358.656624"
      ]
     },
     "execution_count": 49,
     "metadata": {},
     "output_type": "execute_result"
    }
   ],
   "source": [
    "standard_dev=(df[num_col].std())\n",
    "table=pd.DataFrame(standard_dev,columns=['Standard_deviation']).reset_index()\n",
    "table.rename(columns={'index':'columns'},inplace=True)\n",
    "table"
   ]
  },
  {
   "cell_type": "code",
   "execution_count": 50,
   "id": "705bc29e-c4fb-48e5-be71-b85b141af6b5",
   "metadata": {},
   "outputs": [],
   "source": [
    "## Standard deviation: Measures the dispersion or spread of the data from the mean."
   ]
  },
  {
   "cell_type": "code",
   "execution_count": 51,
   "id": "58b7f9b8-3103-4015-86e0-6c120a91f939",
   "metadata": {},
   "outputs": [],
   "source": [
    "#there is a very big deviation in average price of the products"
   ]
  },
  {
   "cell_type": "markdown",
   "id": "c88335e2-3bb0-4fdf-bfa0-4355e4a5ea60",
   "metadata": {},
   "source": [
    "### Data Visualization"
   ]
  },
  {
   "cell_type": "code",
   "execution_count": 52,
   "id": "7f3b964d-6815-44c7-85d1-ec2fffc58f14",
   "metadata": {},
   "outputs": [],
   "source": [
    "import matplotlib.pyplot as plt\n",
    "import seaborn as sns"
   ]
  },
  {
   "cell_type": "code",
   "execution_count": 53,
   "id": "4007c8b9-70d7-4ac4-8900-b6845f862b74",
   "metadata": {},
   "outputs": [
    {
     "data": {
      "text/html": [
       "<div>\n",
       "<style scoped>\n",
       "    .dataframe tbody tr th:only-of-type {\n",
       "        vertical-align: middle;\n",
       "    }\n",
       "\n",
       "    .dataframe tbody tr th {\n",
       "        vertical-align: top;\n",
       "    }\n",
       "\n",
       "    .dataframe thead th {\n",
       "        text-align: right;\n",
       "    }\n",
       "</style>\n",
       "<table border=\"1\" class=\"dataframe\">\n",
       "  <thead>\n",
       "    <tr style=\"text-align: right;\">\n",
       "      <th></th>\n",
       "      <th>Date</th>\n",
       "      <th>Day</th>\n",
       "      <th>SKU</th>\n",
       "      <th>City</th>\n",
       "      <th>Volume</th>\n",
       "      <th>BU</th>\n",
       "      <th>Brand</th>\n",
       "      <th>Model</th>\n",
       "      <th>Avg Price</th>\n",
       "      <th>Total Sales Value</th>\n",
       "      <th>Discount Rate (%)</th>\n",
       "      <th>Discount Amount</th>\n",
       "      <th>Net Sales Value</th>\n",
       "    </tr>\n",
       "  </thead>\n",
       "  <tbody>\n",
       "    <tr>\n",
       "      <th>0</th>\n",
       "      <td>01-04-2021</td>\n",
       "      <td>Thursday</td>\n",
       "      <td>M01</td>\n",
       "      <td>C</td>\n",
       "      <td>15</td>\n",
       "      <td>Mobiles</td>\n",
       "      <td>RealU</td>\n",
       "      <td>RU-10</td>\n",
       "      <td>12100</td>\n",
       "      <td>181500</td>\n",
       "      <td>11.654820</td>\n",
       "      <td>21153.498820</td>\n",
       "      <td>160346.501180</td>\n",
       "    </tr>\n",
       "    <tr>\n",
       "      <th>1</th>\n",
       "      <td>01-04-2021</td>\n",
       "      <td>Thursday</td>\n",
       "      <td>M02</td>\n",
       "      <td>C</td>\n",
       "      <td>10</td>\n",
       "      <td>Mobiles</td>\n",
       "      <td>RealU</td>\n",
       "      <td>RU-9 Plus</td>\n",
       "      <td>10100</td>\n",
       "      <td>101000</td>\n",
       "      <td>11.560498</td>\n",
       "      <td>11676.102961</td>\n",
       "      <td>89323.897039</td>\n",
       "    </tr>\n",
       "    <tr>\n",
       "      <th>2</th>\n",
       "      <td>01-04-2021</td>\n",
       "      <td>Thursday</td>\n",
       "      <td>M03</td>\n",
       "      <td>C</td>\n",
       "      <td>7</td>\n",
       "      <td>Mobiles</td>\n",
       "      <td>YouM</td>\n",
       "      <td>YM-99</td>\n",
       "      <td>16100</td>\n",
       "      <td>112700</td>\n",
       "      <td>9.456886</td>\n",
       "      <td>10657.910157</td>\n",
       "      <td>102042.089843</td>\n",
       "    </tr>\n",
       "    <tr>\n",
       "      <th>3</th>\n",
       "      <td>01-04-2021</td>\n",
       "      <td>Thursday</td>\n",
       "      <td>M04</td>\n",
       "      <td>C</td>\n",
       "      <td>6</td>\n",
       "      <td>Mobiles</td>\n",
       "      <td>YouM</td>\n",
       "      <td>YM-99 Plus</td>\n",
       "      <td>20100</td>\n",
       "      <td>120600</td>\n",
       "      <td>6.935385</td>\n",
       "      <td>8364.074702</td>\n",
       "      <td>112235.925298</td>\n",
       "    </tr>\n",
       "    <tr>\n",
       "      <th>4</th>\n",
       "      <td>01-04-2021</td>\n",
       "      <td>Thursday</td>\n",
       "      <td>M05</td>\n",
       "      <td>C</td>\n",
       "      <td>3</td>\n",
       "      <td>Mobiles</td>\n",
       "      <td>YouM</td>\n",
       "      <td>YM-98</td>\n",
       "      <td>8100</td>\n",
       "      <td>24300</td>\n",
       "      <td>17.995663</td>\n",
       "      <td>4372.946230</td>\n",
       "      <td>19927.053770</td>\n",
       "    </tr>\n",
       "  </tbody>\n",
       "</table>\n",
       "</div>"
      ],
      "text/plain": [
       "         Date       Day  SKU City  Volume       BU  Brand       Model  \\\n",
       "0  01-04-2021  Thursday  M01    C      15  Mobiles  RealU       RU-10   \n",
       "1  01-04-2021  Thursday  M02    C      10  Mobiles  RealU   RU-9 Plus   \n",
       "2  01-04-2021  Thursday  M03    C       7  Mobiles   YouM       YM-99   \n",
       "3  01-04-2021  Thursday  M04    C       6  Mobiles   YouM  YM-99 Plus   \n",
       "4  01-04-2021  Thursday  M05    C       3  Mobiles   YouM      YM-98    \n",
       "\n",
       "   Avg Price  Total Sales Value  Discount Rate (%)  Discount Amount  \\\n",
       "0      12100             181500          11.654820     21153.498820   \n",
       "1      10100             101000          11.560498     11676.102961   \n",
       "2      16100             112700           9.456886     10657.910157   \n",
       "3      20100             120600           6.935385      8364.074702   \n",
       "4       8100              24300          17.995663      4372.946230   \n",
       "\n",
       "   Net Sales Value  \n",
       "0    160346.501180  \n",
       "1     89323.897039  \n",
       "2    102042.089843  \n",
       "3    112235.925298  \n",
       "4     19927.053770  "
      ]
     },
     "execution_count": 53,
     "metadata": {},
     "output_type": "execute_result"
    }
   ],
   "source": [
    "df.head()"
   ]
  },
  {
   "cell_type": "code",
   "execution_count": 54,
   "id": "f7c00eb1-11c8-41bc-8380-0462f213b6e3",
   "metadata": {},
   "outputs": [
    {
     "name": "stdout",
     "output_type": "stream",
     "text": [
      "<class 'pandas.core.frame.DataFrame'>\n",
      "RangeIndex: 450 entries, 0 to 449\n",
      "Data columns (total 13 columns):\n",
      " #   Column             Non-Null Count  Dtype  \n",
      "---  ------             --------------  -----  \n",
      " 0   Date               450 non-null    object \n",
      " 1   Day                450 non-null    object \n",
      " 2   SKU                450 non-null    object \n",
      " 3   City               450 non-null    object \n",
      " 4   Volume             450 non-null    int64  \n",
      " 5   BU                 450 non-null    object \n",
      " 6   Brand              450 non-null    object \n",
      " 7   Model              450 non-null    object \n",
      " 8   Avg Price          450 non-null    int64  \n",
      " 9   Total Sales Value  450 non-null    int64  \n",
      " 10  Discount Rate (%)  450 non-null    float64\n",
      " 11  Discount Amount    450 non-null    float64\n",
      " 12  Net Sales Value    450 non-null    float64\n",
      "dtypes: float64(3), int64(3), object(7)\n",
      "memory usage: 45.8+ KB\n"
     ]
    }
   ],
   "source": [
    "df.info()"
   ]
  },
  {
   "cell_type": "code",
   "execution_count": 55,
   "id": "b0893eda-203b-42d0-84cb-a6a23d95f280",
   "metadata": {},
   "outputs": [
    {
     "data": {
      "text/html": [
       "<div>\n",
       "<style scoped>\n",
       "    .dataframe tbody tr th:only-of-type {\n",
       "        vertical-align: middle;\n",
       "    }\n",
       "\n",
       "    .dataframe tbody tr th {\n",
       "        vertical-align: top;\n",
       "    }\n",
       "\n",
       "    .dataframe thead th {\n",
       "        text-align: right;\n",
       "    }\n",
       "</style>\n",
       "<table border=\"1\" class=\"dataframe\">\n",
       "  <thead>\n",
       "    <tr style=\"text-align: right;\">\n",
       "      <th></th>\n",
       "      <th>Volume</th>\n",
       "      <th>Avg Price</th>\n",
       "      <th>Total Sales Value</th>\n",
       "      <th>Discount Rate (%)</th>\n",
       "      <th>Discount Amount</th>\n",
       "      <th>Net Sales Value</th>\n",
       "    </tr>\n",
       "  </thead>\n",
       "  <tbody>\n",
       "    <tr>\n",
       "      <th>0</th>\n",
       "      <td>15</td>\n",
       "      <td>12100</td>\n",
       "      <td>181500</td>\n",
       "      <td>11.654820</td>\n",
       "      <td>21153.498820</td>\n",
       "      <td>160346.501180</td>\n",
       "    </tr>\n",
       "    <tr>\n",
       "      <th>1</th>\n",
       "      <td>10</td>\n",
       "      <td>10100</td>\n",
       "      <td>101000</td>\n",
       "      <td>11.560498</td>\n",
       "      <td>11676.102961</td>\n",
       "      <td>89323.897039</td>\n",
       "    </tr>\n",
       "    <tr>\n",
       "      <th>2</th>\n",
       "      <td>7</td>\n",
       "      <td>16100</td>\n",
       "      <td>112700</td>\n",
       "      <td>9.456886</td>\n",
       "      <td>10657.910157</td>\n",
       "      <td>102042.089843</td>\n",
       "    </tr>\n",
       "    <tr>\n",
       "      <th>3</th>\n",
       "      <td>6</td>\n",
       "      <td>20100</td>\n",
       "      <td>120600</td>\n",
       "      <td>6.935385</td>\n",
       "      <td>8364.074702</td>\n",
       "      <td>112235.925298</td>\n",
       "    </tr>\n",
       "    <tr>\n",
       "      <th>4</th>\n",
       "      <td>3</td>\n",
       "      <td>8100</td>\n",
       "      <td>24300</td>\n",
       "      <td>17.995663</td>\n",
       "      <td>4372.946230</td>\n",
       "      <td>19927.053770</td>\n",
       "    </tr>\n",
       "    <tr>\n",
       "      <th>...</th>\n",
       "      <td>...</td>\n",
       "      <td>...</td>\n",
       "      <td>...</td>\n",
       "      <td>...</td>\n",
       "      <td>...</td>\n",
       "      <td>...</td>\n",
       "    </tr>\n",
       "    <tr>\n",
       "      <th>445</th>\n",
       "      <td>2</td>\n",
       "      <td>1300</td>\n",
       "      <td>2600</td>\n",
       "      <td>15.475687</td>\n",
       "      <td>402.367873</td>\n",
       "      <td>2197.632127</td>\n",
       "    </tr>\n",
       "    <tr>\n",
       "      <th>446</th>\n",
       "      <td>6</td>\n",
       "      <td>2600</td>\n",
       "      <td>15600</td>\n",
       "      <td>17.057027</td>\n",
       "      <td>2660.896242</td>\n",
       "      <td>12939.103758</td>\n",
       "    </tr>\n",
       "    <tr>\n",
       "      <th>447</th>\n",
       "      <td>2</td>\n",
       "      <td>1600</td>\n",
       "      <td>3200</td>\n",
       "      <td>18.965550</td>\n",
       "      <td>606.897606</td>\n",
       "      <td>2593.102394</td>\n",
       "    </tr>\n",
       "    <tr>\n",
       "      <th>448</th>\n",
       "      <td>3</td>\n",
       "      <td>1900</td>\n",
       "      <td>5700</td>\n",
       "      <td>16.793014</td>\n",
       "      <td>957.201826</td>\n",
       "      <td>4742.798174</td>\n",
       "    </tr>\n",
       "    <tr>\n",
       "      <th>449</th>\n",
       "      <td>1</td>\n",
       "      <td>3100</td>\n",
       "      <td>3100</td>\n",
       "      <td>15.333300</td>\n",
       "      <td>475.332295</td>\n",
       "      <td>2624.667705</td>\n",
       "    </tr>\n",
       "  </tbody>\n",
       "</table>\n",
       "<p>450 rows × 6 columns</p>\n",
       "</div>"
      ],
      "text/plain": [
       "     Volume  Avg Price  Total Sales Value  Discount Rate (%)  Discount Amount  \\\n",
       "0        15      12100             181500          11.654820     21153.498820   \n",
       "1        10      10100             101000          11.560498     11676.102961   \n",
       "2         7      16100             112700           9.456886     10657.910157   \n",
       "3         6      20100             120600           6.935385      8364.074702   \n",
       "4         3       8100              24300          17.995663      4372.946230   \n",
       "..      ...        ...                ...                ...              ...   \n",
       "445       2       1300               2600          15.475687       402.367873   \n",
       "446       6       2600              15600          17.057027      2660.896242   \n",
       "447       2       1600               3200          18.965550       606.897606   \n",
       "448       3       1900               5700          16.793014       957.201826   \n",
       "449       1       3100               3100          15.333300       475.332295   \n",
       "\n",
       "     Net Sales Value  \n",
       "0      160346.501180  \n",
       "1       89323.897039  \n",
       "2      102042.089843  \n",
       "3      112235.925298  \n",
       "4       19927.053770  \n",
       "..               ...  \n",
       "445      2197.632127  \n",
       "446     12939.103758  \n",
       "447      2593.102394  \n",
       "448      4742.798174  \n",
       "449      2624.667705  \n",
       "\n",
       "[450 rows x 6 columns]"
      ]
     },
     "execution_count": 55,
     "metadata": {},
     "output_type": "execute_result"
    }
   ],
   "source": [
    "df[num_col]"
   ]
  },
  {
   "cell_type": "code",
   "execution_count": 56,
   "id": "aac15ae8-c7ac-4503-a328-ecbac8b98835",
   "metadata": {},
   "outputs": [
    {
     "data": {
      "image/png": "[encoded data removed]",
      "text/plain": [
       "<Figure size 640x480 with 1 Axes>"
      ]
     },
     "metadata": {},
     "output_type": "display_data"
    }
   ],
   "source": [
    "sns.histplot(df['Volume'], kde=True,color='green')\n",
    "plt.title('Histogram of Volume')\n",
    "plt.show()"
   ]
  },
  {
   "cell_type": "code",
   "execution_count": 57,
   "id": "e3bf9583-4edb-4b60-a8ab-8af8a45b1d10",
   "metadata": {},
   "outputs": [],
   "source": [
    "## positive skewness\n",
    "##the mean is greater than the median most of the data pointsa \n",
    "# are concentrated on thr left side\n",
    "#the tail is longer on the right side \n",
    "#outliers are the high volume counts"
   ]
  },
  {
   "cell_type": "code",
   "execution_count": 58,
   "id": "083dea75-d610-4d84-85d0-c43e75849acd",
   "metadata": {},
   "outputs": [
    {
     "data": {
      "text/plain": [
       "Text(0.5, 1.0, 'Histogram of Avg Price')"
      ]
     },
     "execution_count": 58,
     "metadata": {},
     "output_type": "execute_result"
    },
    {
     "data": {
      "image/png": "[encoded data removed]",
      "text/plain": [
       "<Figure size 640x480 with 1 Axes>"
      ]
     },
     "metadata": {},
     "output_type": "display_data"
    }
   ],
   "source": [
    "sns.histplot(df['Avg Price'],kde=True,color='green')\n",
    "plt.title('Histogram of Avg Price')"
   ]
  },
  {
   "cell_type": "code",
   "execution_count": 59,
   "id": "c0707dcf-371d-47eb-8683-d72dc59218bd",
   "metadata": {},
   "outputs": [],
   "source": [
    "##positive skewness\n",
    "##mean is greater than median \n",
    "##data are concentrated more in the left side\n",
    "##outliers are high average price"
   ]
  },
  {
   "cell_type": "code",
   "execution_count": 64,
   "id": "c0f6fe24-f200-4c17-8951-ba273acf3d50",
   "metadata": {},
   "outputs": [
    {
     "data": {
      "text/plain": [
       "Text(0.5, 1.0, 'Histogram of Total Sales Value')"
      ]
     },
     "execution_count": 64,
     "metadata": {},
     "output_type": "execute_result"
    },
    {
     "data": {
      "image/png": "[encoded data removed]",
      "text/plain": [
       "<Figure size 640x480 with 1 Axes>"
      ]
     },
     "metadata": {},
     "output_type": "display_data"
    }
   ],
   "source": [
    "sns.histplot(df['Total Sales Value'],kde=True,color='green')\n",
    "plt.title('Histogram of Total Sales Value')\n"
   ]
  },
  {
   "cell_type": "code",
   "execution_count": null,
   "id": "3365cd69-8cd4-40a0-a449-f53f6e62b42b",
   "metadata": {},
   "outputs": [],
   "source": [
    "## positive skewness\n",
    "#more data in the lower sales values\n",
    "#there are less higher value sales compared to the low value \n",
    "#sales\n",
    "#outliers are  the high value sales because they are very less"
   ]
  },
  {
   "cell_type": "code",
   "execution_count": null,
   "id": "190f9a0f-ae49-489b-a174-15c46d687e72",
   "metadata": {},
   "outputs": [],
   "source": [
    "sns.histplot(df['Discount Rate (%)'],kde=True,color='green')\n",
    "plt.title('Histogram of Discount Rate % ')"
   ]
  },
  {
   "cell_type": "code",
   "execution_count": null,
   "id": "18927b50-73df-45ab-81cb-64c83087256e",
   "metadata": {},
   "outputs": [],
   "source": [
    "print(df['Discount Rate (%)'].mean())\n",
    "print(df['Discount Rate (%)'].median())\n",
    "print(df['Discount Rate (%)'].mode().iloc[0])"
   ]
  },
  {
   "cell_type": "markdown",
   "id": "2361820e-eb3a-449a-999e-d4a974f12405",
   "metadata": {},
   "source": [
    "-negative skewness\n",
    "-discount rate is high in the right side\n",
    "-there are more  high discount rate  compared to the low dicount\n",
    "-rates\n",
    "-mean is lesser than median"
   ]
  },
  {
   "cell_type": "code",
   "execution_count": null,
   "id": "1215dce4-3294-4934-b9a3-7dc13f98aba2",
   "metadata": {},
   "outputs": [],
   "source": [
    "sns.histplot(df['Discount Amount'],kde=True,color='green')\n",
    "plt.title('Histogram of Discount Amount')\n"
   ]
  },
  {
   "cell_type": "markdown",
   "id": "e45b25f6-7ff3-4df7-912c-150257d20a13",
   "metadata": {},
   "source": [
    "##positive skewness\n",
    "##there is very less  count of discount amount \n",
    "#data values are concentrated on the left side of the graph\n",
    "#outliers are the high dis count amount"
   ]
  },
  {
   "cell_type": "code",
   "execution_count": null,
   "id": "1ad96051-d8b3-49f7-a7dd-19fd6073d068",
   "metadata": {},
   "outputs": [],
   "source": [
    "sns.histplot(df['Net Sales Value'],kde=True,color='green')\n",
    "plt.title('Histogram of Net sales value')\n"
   ]
  },
  {
   "cell_type": "code",
   "execution_count": null,
   "id": "e66e4619-64cb-43c5-b45b-3c8d16513c78",
   "metadata": {},
   "outputs": [],
   "source": [
    "## positive  skewness\n",
    "#total sales values are of lower values\n",
    "#outliers are the high sales values as it is very less compared to the\n",
    "#lower sales values\n",
    "\n"
   ]
  },
  {
   "cell_type": "code",
   "execution_count": null,
   "id": "fcd7cf17-3040-4607-939d-503237614864",
   "metadata": {},
   "outputs": [],
   "source": []
  },
  {
   "cell_type": "markdown",
   "id": "0e051d23-8521-4942-a048-7731b5607168",
   "metadata": {},
   "source": [
    "## Box plots\n"
   ]
  },
  {
   "cell_type": "code",
   "execution_count": null,
   "id": "ed4880e5-db64-4f78-bd93-7df41060b5b7",
   "metadata": {},
   "outputs": [],
   "source": [
    "df[num_col].head()"
   ]
  },
  {
   "cell_type": "code",
   "execution_count": null,
   "id": "6b41bf31-e5a4-403e-a33c-b1dc2cac980d",
   "metadata": {},
   "outputs": [],
   "source": [
    "for column in num_col:\n",
    "    plt.boxplot(x=df[column])\n",
    "    plt.title(f'Boxplot of {column}')\n",
    "    plt.xlabel(column)\n",
    "    plt.show()\n",
    "    "
   ]
  },
  {
   "cell_type": "code",
   "execution_count": null,
   "id": "f17b4ae1-f37e-4f30-b52d-cf598bb46ac8",
   "metadata": {},
   "outputs": [],
   "source": [
    "## every numerical column has outliers \n",
    "## the minimum outlier is present in Avg price column"
   ]
  },
  {
   "cell_type": "code",
   "execution_count": null,
   "id": "de84dfae-8906-4982-b81b-0e86fafc911f",
   "metadata": {},
   "outputs": [],
   "source": []
  },
  {
   "cell_type": "markdown",
   "id": "92c03511-ee43-49c3-af3c-b8fc134cbd04",
   "metadata": {},
   "source": [
    "## Bar Chart Analysis"
   ]
  },
  {
   "cell_type": "code",
   "execution_count": 62,
   "id": "07e00756-8d3d-4d2d-b58c-a83ee4f5674b",
   "metadata": {},
   "outputs": [
    {
     "data": {
      "text/plain": [
       "['Date', 'Day', 'SKU', 'City', 'BU', 'Brand', 'Model']"
      ]
     },
     "execution_count": 62,
     "metadata": {},
     "output_type": "execute_result"
    }
   ],
   "source": [
    "cat_col= [i for i in df.columns if df[i].dtype=='O']\n",
    "cat_col"
   ]
  },
  {
   "cell_type": "code",
   "execution_count": null,
   "id": "f0d7c979-34d2-40f8-a44d-3f2d62f78aa4",
   "metadata": {},
   "outputs": [],
   "source": [
    "df[cat_col]"
   ]
  },
  {
   "cell_type": "code",
   "execution_count": null,
   "id": "a4892cfd-b373-48c5-a376-9084b7cb02fd",
   "metadata": {},
   "outputs": [],
   "source": [
    "for column in cat_col:\n",
    "    sns.countplot(data=df,x=column,color='orange',order=df[column].value_counts().index)\n",
    "    plt.title(f'Bar chart of {column}')\n",
    "    plt.xticks(rotation=90)\n",
    "    plt.show()\n",
    "    "
   ]
  },
  {
   "cell_type": "code",
   "execution_count": null,
   "id": "9aa3bce8-82c6-440b-9e03-0ae9152ced07",
   "metadata": {},
   "outputs": [],
   "source": []
  },
  {
   "cell_type": "markdown",
   "id": "27e667e3-8854-4307-abe8-5f754a6be57a",
   "metadata": {},
   "source": [
    "# Standardization of Numerical variable"
   ]
  },
  {
   "cell_type": "markdown",
   "id": "f697f314-5c79-47e5-8f50-df92b66b7d51",
   "metadata": {},
   "source": [
    "#### Standardization(z-score normalization) is a technique used to scale numerical variables in a dataset to a standard scale. It ensures uniformity and comparability across variables. \r\n",
    "This process transforms the data distribution such that it has a mean of 0 and a standard deviation of 1.\r\n",
    "\r\n",
    "##### formula: z= x-mu/sigma\r\n",
    "* z is the standardized value (z-score) of the data point.\r\n",
    "* x is the original value of the data point.\r\n",
    "* mu is the mean of the variable.\r\n",
    "* sigma is the standard deviation of the variable.\r\n",
    "##### Process to do Z-test\r\n",
    "* Calculate the mean (mu) and standard deviation (sigma) of each numerical column.\r\n",
    "* Subtract the mean from each data point in the column.\r\n",
    "* Divide each result by the standard deviation."
   ]
  },
  {
   "cell_type": "code",
   "execution_count": null,
   "id": "e5023366-cd25-48c3-ad17-b7ec50505a74",
   "metadata": {},
   "outputs": [],
   "source": [
    "mean=df[num_col].mean()\n",
    "std=df[num_col].std()\n",
    "## formula z=x=mu/sigma\n",
    "standard_col=(df[num_col]-mean)/std\n",
    "plt.figure(figsize=(16,6))\n",
    "plt.subplot(1,2,1)\n",
    "sns.boxplot(data=df[num_col])\n",
    "plt.title('Before Standardization')\n",
    "plt.xticks(rotation=90)\n",
    "\n",
    "plt.subplot(1,2,2)\n",
    "sns.boxplot(data=standard_col)\n",
    "plt.title('After Standardization')\n",
    "plt.xticks(rotation=90)\n",
    "\n",
    "plt.tight_layout()\n",
    "\n"
   ]
  },
  {
   "cell_type": "code",
   "execution_count": null,
   "id": "13e2546c-7063-4739-8c9c-68f0c3f9bdf5",
   "metadata": {},
   "outputs": [],
   "source": [
    "\n"
   ]
  },
  {
   "cell_type": "markdown",
   "id": "8dbde6ca-c118-4927-a5c4-943fdbb6db68",
   "metadata": {},
   "source": [
    "# Conversion of Categorical Data into Dummy Variables"
   ]
  },
  {
   "cell_type": "markdown",
   "id": "ffb5aab4-8e12-41c4-9dbf-95d2ef85e533",
   "metadata": {},
   "source": [
    "### Need for converting categorical data into Dummy variables\n",
    "Categorical data often contains non-numeric values, such as strings. One-hot encoding converts these non-numeric values into a numerical format that can be processed by machine learning algorithms.one-hot encoding involves converting non-numeric categories into binary columns.Each category becomes a column with ‘1’ for the presence of that category and ‘0’ for others.\n",
    "These newly created binary features are known as Dummy variables. The number of dummy variables depends on the levels present in the categorical variable.\n"
   ]
  },
  {
   "cell_type": "code",
   "execution_count": 65,
   "id": "632e51b5-30b9-4357-8a92-12cce0e56bfa",
   "metadata": {},
   "outputs": [
    {
     "name": "stdout",
     "output_type": "stream",
     "text": [
      "Requirement already satisfied: category_encoders in c:\\users\\rinis\\anaconda3\\lib\\site-packages (2.8.0)\n",
      "Requirement already satisfied: numpy>=1.14.0 in c:\\users\\rinis\\anaconda3\\lib\\site-packages (from category_encoders) (1.26.4)\n",
      "Requirement already satisfied: pandas>=1.0.5 in c:\\users\\rinis\\anaconda3\\lib\\site-packages (from category_encoders) (2.2.2)\n",
      "Requirement already satisfied: patsy>=0.5.1 in c:\\users\\rinis\\anaconda3\\lib\\site-packages (from category_encoders) (0.5.6)\n",
      "Requirement already satisfied: scikit-learn>=1.6.0 in c:\\users\\rinis\\anaconda3\\lib\\site-packages (from category_encoders) (1.6.1)\n",
      "Requirement already satisfied: scipy>=1.0.0 in c:\\users\\rinis\\anaconda3\\lib\\site-packages (from category_encoders) (1.14.1)\n",
      "Requirement already satisfied: statsmodels>=0.9.0 in c:\\users\\rinis\\anaconda3\\lib\\site-packages (from category_encoders) (0.14.2)\n",
      "Requirement already satisfied: python-dateutil>=2.8.2 in c:\\users\\rinis\\anaconda3\\lib\\site-packages (from pandas>=1.0.5->category_encoders) (2.9.0.post0)\n",
      "Requirement already satisfied: pytz>=2020.1 in c:\\users\\rinis\\anaconda3\\lib\\site-packages (from pandas>=1.0.5->category_encoders) (2024.1)\n",
      "Requirement already satisfied: tzdata>=2022.7 in c:\\users\\rinis\\anaconda3\\lib\\site-packages (from pandas>=1.0.5->category_encoders) (2023.3)\n",
      "Requirement already satisfied: six in c:\\users\\rinis\\anaconda3\\lib\\site-packages (from patsy>=0.5.1->category_encoders) (1.16.0)\n",
      "Requirement already satisfied: joblib>=1.2.0 in c:\\users\\rinis\\anaconda3\\lib\\site-packages (from scikit-learn>=1.6.0->category_encoders) (1.4.2)\n",
      "Requirement already satisfied: threadpoolctl>=3.1.0 in c:\\users\\rinis\\anaconda3\\lib\\site-packages (from scikit-learn>=1.6.0->category_encoders) (3.5.0)\n",
      "Requirement already satisfied: packaging>=21.3 in c:\\users\\rinis\\anaconda3\\lib\\site-packages (from statsmodels>=0.9.0->category_encoders) (23.2)\n"
     ]
    }
   ],
   "source": [
    "! pip install category_encoders"
   ]
  },
  {
   "cell_type": "code",
   "execution_count": 66,
   "id": "87d06cc3-37b8-40f6-9442-6c3ae1752fec",
   "metadata": {},
   "outputs": [],
   "source": [
    "from sklearn.preprocessing import OneHotEncoder "
   ]
  },
  {
   "cell_type": "code",
   "execution_count": 67,
   "id": "1a6900f2-505a-4592-b289-0a79763dee2e",
   "metadata": {},
   "outputs": [
    {
     "data": {
      "text/plain": [
       "['Date', 'Day', 'SKU', 'City', 'BU', 'Brand', 'Model']"
      ]
     },
     "execution_count": 67,
     "metadata": {},
     "output_type": "execute_result"
    }
   ],
   "source": [
    "cat_col"
   ]
  },
  {
   "cell_type": "code",
   "execution_count": 69,
   "id": "7fed4afe-657d-46c1-9f1c-61a1a3c37a62",
   "metadata": {},
   "outputs": [],
   "source": [
    "onehot_encoder=OneHotEncoder(drop='first')"
   ]
  },
  {
   "cell_type": "code",
   "execution_count": 78,
   "id": "baaf0832-f65b-4820-a94f-388ced1ce701",
   "metadata": {},
   "outputs": [
    {
     "name": "stdout",
     "output_type": "stream",
     "text": [
      "   Volume  Avg Price  Total Sales Value  Discount Rate (%)  Discount Amount  \\\n",
      "0      15      12100             181500                 11            21153   \n",
      "1      10      10100             101000                 11            11676   \n",
      "2       7      16100             112700                  9            10657   \n",
      "3       6      20100             120600                  6             8364   \n",
      "4       3       8100              24300                 17             4372   \n",
      "\n",
      "   Net Sales Value  Date_01-04-2021  Date_02-04-2021  Date_03-04-2021  \\\n",
      "0           160346                1                0                0   \n",
      "1            89323                1                0                0   \n",
      "2           102042                1                0                0   \n",
      "3           112235                1                0                0   \n",
      "4            19927                1                0                0   \n",
      "\n",
      "   Date_04-04-2021  ...  Model_Vedic Cream  Model_Vedic Oil  \\\n",
      "0                0  ...                  0                0   \n",
      "1                0  ...                  0                0   \n",
      "2                0  ...                  0                0   \n",
      "3                0  ...                  0                0   \n",
      "4                0  ...                  0                0   \n",
      "\n",
      "   Model_Vedic Shampoo  Model_W-Casuals  Model_W-Inners  Model_W-Lounge  \\\n",
      "0                    0                0               0               0   \n",
      "1                    0                0               0               0   \n",
      "2                    0                0               0               0   \n",
      "3                    0                0               0               0   \n",
      "4                    0                0               0               0   \n",
      "\n",
      "   Model_W-Western  Model_YM-98   Model_YM-99  Model_YM-99 Plus  \n",
      "0                0             0            0                 0  \n",
      "1                0             0            0                 0  \n",
      "2                0             0            1                 0  \n",
      "3                0             0            0                 1  \n",
      "4                0             1            0                 0  \n",
      "\n",
      "[5 rows x 101 columns]\n"
     ]
    }
   ],
   "source": [
    "df_encoded=pd.get_dummies(df,columns=cat_col)\n",
    "df_encoded=df_encoded.astype(int)\n",
    "print(df_encoded.head())"
   ]
  },
  {
   "cell_type": "code",
   "execution_count": 77,
   "id": "94159510-3cca-473a-a48b-b57e22208fef",
   "metadata": {},
   "outputs": [],
   "source": [
    "encoded_features=onehot_encoder.fit_transform(df[cat_col])"
   ]
  },
  {
   "cell_type": "code",
   "execution_count": 81,
   "id": "53e3ad4a-e57f-4740-be68-74dfa413ee6c",
   "metadata": {},
   "outputs": [],
   "source": [
    "#applying one-hot encoding\n",
    "df_encoded=df_encoded=pd.get_dummies(df,columns=cat_col,drop_first=True)\n",
    "df_encoded=df_encoded.astype(int)\n"
   ]
  },
  {
   "cell_type": "code",
   "execution_count": 82,
   "id": "72e25f76-5c52-44d1-8d53-f3bbd9edc628",
   "metadata": {},
   "outputs": [
    {
     "name": "stdout",
     "output_type": "stream",
     "text": [
      "Transformed Dataset\n",
      "     Volume  Avg Price  Total Sales Value  Discount Rate (%)  Discount Amount  \\\n",
      "0        15      12100             181500                 11            21153   \n",
      "1        10      10100             101000                 11            11676   \n",
      "2         7      16100             112700                  9            10657   \n",
      "3         6      20100             120600                  6             8364   \n",
      "4         3       8100              24300                 17             4372   \n",
      "..      ...        ...                ...                ...              ...   \n",
      "445       2       1300               2600                 15              402   \n",
      "446       6       2600              15600                 17             2660   \n",
      "447       2       1600               3200                 18              606   \n",
      "448       3       1900               5700                 16              957   \n",
      "449       1       3100               3100                 15              475   \n",
      "\n",
      "     Net Sales Value  Date_02-04-2021  Date_03-04-2021  Date_04-04-2021  \\\n",
      "0             160346                0                0                0   \n",
      "1              89323                0                0                0   \n",
      "2             102042                0                0                0   \n",
      "3             112235                0                0                0   \n",
      "4              19927                0                0                0   \n",
      "..               ...              ...              ...              ...   \n",
      "445             2197                0                0                0   \n",
      "446            12939                0                0                0   \n",
      "447             2593                0                0                0   \n",
      "448             4742                0                0                0   \n",
      "449             2624                0                0                0   \n",
      "\n",
      "     Date_05-04-2021  ...  Model_Vedic Cream  Model_Vedic Oil  \\\n",
      "0                  0  ...                  0                0   \n",
      "1                  0  ...                  0                0   \n",
      "2                  0  ...                  0                0   \n",
      "3                  0  ...                  0                0   \n",
      "4                  0  ...                  0                0   \n",
      "..               ...  ...                ...              ...   \n",
      "445                0  ...                  0                0   \n",
      "446                0  ...                  0                0   \n",
      "447                0  ...                  0                0   \n",
      "448                0  ...                  0                0   \n",
      "449                0  ...                  0                0   \n",
      "\n",
      "     Model_Vedic Shampoo  Model_W-Casuals  Model_W-Inners  Model_W-Lounge  \\\n",
      "0                      0                0               0               0   \n",
      "1                      0                0               0               0   \n",
      "2                      0                0               0               0   \n",
      "3                      0                0               0               0   \n",
      "4                      0                0               0               0   \n",
      "..                   ...              ...             ...             ...   \n",
      "445                    0                0               0               0   \n",
      "446                    0                0               0               0   \n",
      "447                    0                0               0               1   \n",
      "448                    0                0               0               0   \n",
      "449                    0                0               0               0   \n",
      "\n",
      "     Model_W-Western  Model_YM-98   Model_YM-99  Model_YM-99 Plus  \n",
      "0                  0             0            0                 0  \n",
      "1                  0             0            0                 0  \n",
      "2                  0             0            1                 0  \n",
      "3                  0             0            0                 1  \n",
      "4                  0             1            0                 0  \n",
      "..               ...           ...          ...               ...  \n",
      "445                0             0            0                 0  \n",
      "446                1             0            0                 0  \n",
      "447                0             0            0                 0  \n",
      "448                0             0            0                 0  \n",
      "449                0             0            0                 0  \n",
      "\n",
      "[450 rows x 94 columns]\n"
     ]
    }
   ],
   "source": [
    "##displaying transformed data set\n",
    "print('Transformed Dataset')\n",
    "print(df_encoded)"
   ]
  },
  {
   "cell_type": "markdown",
   "id": "6f5945db-674c-4cfb-b27c-e04a657199a8",
   "metadata": {},
   "source": [
    "\n",
    "\n",
    "### Descriptive Analytics\n",
    "* We computed basic statistical measures such as mean, median, mode, and standard deviation for numerical columns in the dataset.\n",
    "Through histograms, boxplots, and bar charts, we gained insights into the distribution and relationship of numerical and categorical variables."
   ]
  },
  {
   "cell_type": "markdown",
   "id": "c6c4e10c-5f7c-44ec-b605-01f104b4849f",
   "metadata": {},
   "source": [
    "### Data Visualizations\r\n",
    "* Histograms helped us visualize the distribution of numerical variables, revealing information about skewness and the presence of outliers.\r\n",
    "\r\n",
    "* Boxplots provided a clear view of outliers and the interquartile range of numerical variables.\r\n",
    "\r\n",
    "* Bar charts displayed the frequency or count of categories in categorical columns, enabling us to analyze the distribution of categories."
   ]
  },
  {
   "cell_type": "markdown",
   "id": "7abafa3a-1600-4601-9b14-c426d4e7e893",
   "metadata": {},
   "source": [
    "### Importance of  Standardization \n",
    "* We standardized numerical variables using z-score normalization, resulting in a mean of 0 and a standard deviation of 1."
   ]
  },
  {
   "cell_type": "markdown",
   "id": "a78f6296-ce52-4cb9-bcd2-5022e944a49b",
   "metadata": {},
   "source": [
    "### Importance of One Hot Encoding\n",
    "* One-hot encoding is a common preprocessing technique in machine learning that's important because it allows models to understand and use categorical data.\n",
    "  \n",
    "* This technique converts categorical information into a format that can be fed into machine learning algorithms, which typically require numerical inputs.\n"
   ]
  },
  {
   "cell_type": "code",
   "execution_count": null,
   "id": "5860ddeb-f300-49b6-a8b3-9c2322c33c5c",
   "metadata": {},
   "outputs": [],
   "source": []
  }
 ],
 "metadata": {
  "kernelspec": {
   "display_name": "Python 3 (ipykernel)",
   "language": "python",
   "name": "python3"
  },
  "language_info": {
   "codemirror_mode": {
    "name": "ipython",
    "version": 3
   },
   "file_extension": ".py",
   "mimetype": "text/x-python",
   "name": "python",
   "nbconvert_exporter": "python",
   "pygments_lexer": "ipython3",
   "version": "3.12.4"
  }
 },
 "nbformat": 4,
 "nbformat_minor": 5
}
