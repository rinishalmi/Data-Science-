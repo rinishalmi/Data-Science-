{
 "cells": [
  {
   "cell_type": "markdown",
   "id": "870aec44-2ae7-48bb-950e-15e4bf8df61e",
   "metadata": {},
   "source": [
    "# Python Programming Assignment "
   ]
  },
  {
   "cell_type": "markdown",
   "id": "1a06d6a9-8574-4624-83fb-1799c061d684",
   "metadata": {},
   "source": [
    "### Excercise 1: Prime numbers"
   ]
  },
  {
   "cell_type": "markdown",
   "id": "802b2f62-8a59-4cea-9499-499a93c039aa",
   "metadata": {},
   "source": [
    "#### Write a Python program that checks whether a given number is prime or not.\n",
    "#### A prime number is a natural number greater than 1 that has no positive divisors other than 1 and itself."
   ]
  },
  {
   "cell_type": "code",
   "execution_count": 32,
   "id": "543fa725-e7ff-48e2-94ba-9af8f3e2fb37",
   "metadata": {},
   "outputs": [
    {
     "name": "stdin",
     "output_type": "stream",
     "text": [
      "enter a number 12\n"
     ]
    },
    {
     "data": {
      "text/plain": [
       "(12, 'is not a prime')"
      ]
     },
     "execution_count": 32,
     "metadata": {},
     "output_type": "execute_result"
    }
   ],
   "source": [
    "## to find prime number\n",
    "def prime(n):    \n",
    "    if n>1: ## prime number should be greater than 1 \n",
    "        for i in range(2,n):\n",
    "          if n%i==0:          ## if the remainder is zero then it is not a prime number\n",
    "            return n,'is not a prime'\n",
    "        else:\n",
    "            return n,'is a prime' ## so that the loop will check every possible divisor \n",
    "    else:\n",
    "        return n,'is not a prime'\n",
    "\n",
    "n=int(input('enter a number'))   #getting input from the user\n",
    "prime(n)     ## calling the function "
   ]
  },
  {
   "cell_type": "markdown",
   "id": "d21edf4e-eeec-40e0-af07-3ac0f627f377",
   "metadata": {},
   "source": [
    "## Exercise 2: Product of Random Numbers\n",
    "#### Develop a Python program that generates two random numbers and asks the user to enter the product of these numbers.\n",
    "#### The program should then check if the user's answer is correct and display an appropriate message.\n",
    "\n"
   ]
  },
  {
   "cell_type": "code",
   "execution_count": 66,
   "id": "61169a41-88d7-4893-9868-f0e7aa35fcf7",
   "metadata": {},
   "outputs": [
    {
     "name": "stdout",
     "output_type": "stream",
     "text": [
      "Guess the product of two random numbers\n"
     ]
    },
    {
     "name": "stdin",
     "output_type": "stream",
     "text": [
      "Enter the product 23\n"
     ]
    },
    {
     "name": "stdout",
     "output_type": "stream",
     "text": [
      "The product was: 72\n",
      "Go for another guess\n"
     ]
    }
   ],
   "source": [
    "import random                         ## importing random package\n",
    "a=random.randint(1,12)                ## getting random numbers from range 1,12\n",
    "b=random.randint(1,10)                ## getting random numbers from range 1,10\n",
    "product=a*b                           ##product of two numbers\n",
    "print('Guess the product of two random numbers') \n",
    "user=int(input('Enter the product'))           ##getting the input from the user\n",
    "if user==product:                              #checking if it matches the condition\n",
    "    print('You guessed it right!')             ## message saying it is right\n",
    "else:\n",
    "    print('The product was:',product)           #letting the user know the correct answer \n",
    "    print('Go for another guess')               #message to try again\n"
   ]
  },
  {
   "cell_type": "markdown",
   "id": "b9e1e53b-0e6b-4d03-87a6-1831829ab244",
   "metadata": {},
   "source": [
    "## Exercise 3: Squares of Even/Odd Numbers\n",
    "#### Create a Python script that prints the squares of all even or odd numbers within the range of 100 to 200.\n",
    "#### Choose either even or odd numbers and document your choice in the code.\n"
   ]
  },
  {
   "cell_type": "code",
   "execution_count": 80,
   "id": "23bb5d9e-a208-4f07-9a6c-5f8dee9b788e",
   "metadata": {},
   "outputs": [
    {
     "name": "stdout",
     "output_type": "stream",
     "text": [
      "The Odd number is: 101\n",
      "The square root is: 10.04987562112089\n",
      "The Odd number is: 103\n",
      "The square root is: 10.14889156509222\n",
      "The Odd number is: 105\n",
      "The square root is: 10.246950765959598\n",
      "The Odd number is: 107\n",
      "The square root is: 10.344080432788601\n",
      "The Odd number is: 109\n",
      "The square root is: 10.44030650891055\n",
      "The Odd number is: 111\n",
      "The square root is: 10.535653752852738\n",
      "The Odd number is: 113\n",
      "The square root is: 10.63014581273465\n",
      "The Odd number is: 115\n",
      "The square root is: 10.723805294763608\n",
      "The Odd number is: 117\n",
      "The square root is: 10.816653826391969\n",
      "The Odd number is: 119\n",
      "The square root is: 10.908712114635714\n",
      "The Odd number is: 121\n",
      "The square root is: 11.0\n",
      "The Odd number is: 123\n",
      "The square root is: 11.090536506409418\n",
      "The Odd number is: 125\n",
      "The square root is: 11.180339887498949\n",
      "The Odd number is: 127\n",
      "The square root is: 11.269427669584644\n",
      "The Odd number is: 129\n",
      "The square root is: 11.357816691600547\n",
      "The Odd number is: 131\n",
      "The square root is: 11.445523142259598\n",
      "The Odd number is: 133\n",
      "The square root is: 11.532562594670797\n",
      "The Odd number is: 135\n",
      "The square root is: 11.61895003862225\n",
      "The Odd number is: 137\n",
      "The square root is: 11.704699910719626\n",
      "The Odd number is: 139\n",
      "The square root is: 11.789826122551595\n",
      "The Odd number is: 141\n",
      "The square root is: 11.874342087037917\n",
      "The Odd number is: 143\n",
      "The square root is: 11.958260743101398\n",
      "The Odd number is: 145\n",
      "The square root is: 12.041594578792296\n",
      "The Odd number is: 147\n",
      "The square root is: 12.12435565298214\n",
      "The Odd number is: 149\n",
      "The square root is: 12.206555615733702\n",
      "The Odd number is: 151\n",
      "The square root is: 12.288205727444508\n",
      "The Odd number is: 153\n",
      "The square root is: 12.36931687685298\n",
      "The Odd number is: 155\n",
      "The square root is: 12.449899597988733\n",
      "The Odd number is: 157\n",
      "The square root is: 12.529964086141668\n",
      "The Odd number is: 159\n",
      "The square root is: 12.609520212918492\n",
      "The Odd number is: 161\n",
      "The square root is: 12.68857754044952\n",
      "The Odd number is: 163\n",
      "The square root is: 12.767145334803704\n",
      "The Odd number is: 165\n",
      "The square root is: 12.84523257866513\n",
      "The Odd number is: 167\n",
      "The square root is: 12.922847983320086\n",
      "The Odd number is: 169\n",
      "The square root is: 13.0\n",
      "The Odd number is: 171\n",
      "The square root is: 13.076696830622021\n",
      "The Odd number is: 173\n",
      "The square root is: 13.152946437965905\n",
      "The Odd number is: 175\n",
      "The square root is: 13.228756555322953\n",
      "The Odd number is: 177\n",
      "The square root is: 13.30413469565007\n",
      "The Odd number is: 179\n",
      "The square root is: 13.379088160259652\n",
      "The Odd number is: 181\n",
      "The square root is: 13.45362404707371\n",
      "The Odd number is: 183\n",
      "The square root is: 13.527749258468683\n",
      "The Odd number is: 185\n",
      "The square root is: 13.601470508735444\n",
      "The Odd number is: 187\n",
      "The square root is: 13.674794331177344\n",
      "The Odd number is: 189\n",
      "The square root is: 13.74772708486752\n",
      "The Odd number is: 191\n",
      "The square root is: 13.820274961085254\n",
      "The Odd number is: 193\n",
      "The square root is: 13.892443989449804\n",
      "The Odd number is: 195\n",
      "The square root is: 13.96424004376894\n",
      "The Odd number is: 197\n",
      "The square root is: 14.035668847618199\n",
      "The Odd number is: 199\n",
      "The square root is: 14.106735979665885\n"
     ]
    }
   ],
   "source": [
    "import math ## importing math package\n",
    "## iterating each element in the range 100 to 200\n",
    "for i in range(100,201):\n",
    "    ## if i is not divisible by 2 then it is a prime number\n",
    "    if i%2!=0:\n",
    "        print('The Odd number is:',i)\n",
    "        j=math.sqrt(i)  ##printing sqrt of i \n",
    "        print('The square root is:',j)\n",
    "    \n",
    "      "
   ]
  },
  {
   "cell_type": "markdown",
   "id": "fa120fdd-21af-49fb-a908-6b1bba37b22d",
   "metadata": {},
   "source": [
    "## Exercise 4: Word counter\n",
    "#### write a program to count the number of words in a given text.\n",
    "#### text: This is a sample text. This text will be used to demonstrate the word counter.\""
   ]
  },
  {
   "cell_type": "code",
   "execution_count": 81,
   "id": "b044a1b0-8789-4b40-9a10-70e30d625994",
   "metadata": {},
   "outputs": [
    {
     "name": "stdout",
     "output_type": "stream",
     "text": [
      "this : 2\n",
      "is : 1\n",
      "a : 1\n",
      "sample : 1\n",
      "text : 2\n",
      "will : 1\n",
      "be : 1\n",
      "used : 1\n",
      "to : 1\n",
      "demonstrate : 1\n",
      "the : 1\n",
      "word : 1\n",
      "counter : 1\n"
     ]
    }
   ],
   "source": [
    "## import string package \n",
    "import string\n",
    "text=\"This is a sample text. This text will be used to demonstrate the word counter.\"\n",
    "## to remove punctuation\n",
    "text=text.translate(str.maketrans('','',string.punctuation))\n",
    "##splitting words in a string\n",
    "words=text.lower().split()\n",
    "##creating a empty dictionaries\n",
    "word_count={}\n",
    "##\n",
    "for word in words:\n",
    "    if word in word_count: ## checking for word in word_count\n",
    "        word_count[word]+=1 ## adding count 1 if the element exist already\n",
    "    else:\n",
    "        word_count[word]=1 ## if it is a new element give 1\n",
    "for word,count in word_count.items():  #iterating for each word and count in items of word_count\n",
    "    print(word,':',count)\n",
    "\n"
   ]
  },
  {
   "cell_type": "markdown",
   "id": "591750a1-a347-4dbd-acd5-4b38fa3cb4a4",
   "metadata": {},
   "source": [
    "## Exercise 5: Check for Palindrome\n",
    "Write a Python function called is_palindrome that takes a string as input and returns True if the string is a palindrome, and False otherwise. A palindrome is a word, phrase, number, or other sequence of characters that reads the same forward and backward, ignoring spaces, punctuation, and capitalization.\n",
    "Example:\n",
    "Input: \"racecar\"\n",
    "Expected Output: True\n",
    "\n"
   ]
  },
  {
   "cell_type": "code",
   "execution_count": 82,
   "id": "3c7e0dd8-ff6c-45f2-bb32-979c618751b7",
   "metadata": {},
   "outputs": [
    {
     "data": {
      "text/plain": [
       "True"
      ]
     },
     "execution_count": 82,
     "metadata": {},
     "output_type": "execute_result"
    }
   ],
   "source": [
    "def palindrome(input_text): ## creating a function palindrome\n",
    "    ##normalize the input_text so that it wont be case sensitive for punctuation,lower case or upper caseand to join the given string\n",
    "    normal=''.join(char.lower() for char in input_text if char.isalnum()) ##isalnum() gives only alpha numeric value,\n",
    "    ##lower() makes all the alphabets to lowe case\n",
    "    return normal==normal[::-1]  ## check if the normal and reversed normal is equal and returns true if it is same else false\n",
    "    \n",
    "\n",
    "palindrome('racecar')\n",
    "    \n"
   ]
  },
  {
   "cell_type": "code",
   "execution_count": null,
   "id": "b79cce43-86a1-400e-ae81-3a8f48713098",
   "metadata": {},
   "outputs": [],
   "source": []
  },
  {
   "cell_type": "code",
   "execution_count": null,
   "id": "b5056c07-071f-43c8-868e-4cccce72e569",
   "metadata": {},
   "outputs": [],
   "source": []
  }
 ],
 "metadata": {
  "kernelspec": {
   "display_name": "Python 3 (ipykernel)",
   "language": "python",
   "name": "python3"
  },
  "language_info": {
   "codemirror_mode": {
    "name": "ipython",
    "version": 3
   },
   "file_extension": ".py",
   "mimetype": "text/x-python",
   "name": "python",
   "nbconvert_exporter": "python",
   "pygments_lexer": "ipython3",
   "version": "3.12.4"
  }
 },
 "nbformat": 4,
 "nbformat_minor": 5
}
