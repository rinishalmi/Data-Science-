{
 "cells": [
  {
   "cell_type": "markdown",
   "id": "4958f0e5-196a-455d-9892-c87c09125989",
   "metadata": {},
   "source": [
    "\n",
    " # HYPOTHESIS TESTING"
   ]
  },
  {
   "cell_type": "markdown",
   "id": "26317708-ea5e-45e3-ae69-584442ba56f5",
   "metadata": {},
   "source": [
    "## 1. State the Hypotheses statement:"
   ]
  },
  {
   "cell_type": "markdown",
   "id": "8d6178ce-feb5-469b-a049-e9b86b91ba94",
   "metadata": {},
   "source": [
    "#### H0--The mean weekly operating cost remains as per the theoretical model, M=W= $1,000 + $5X.\n",
    "#### Ha--The mean weekly operating cost has increased from the theoretical model, M > W= $1,000 + $5X.\n"
   ]
  },
  {
   "cell_type": "code",
   "execution_count": 15,
   "id": "f9554c95-4aa4-4b65-a57c-7c177a3cf2b1",
   "metadata": {},
   "outputs": [],
   "source": [
    "##given data\n",
    "n=25\n",
    "x_bar=3050\n",
    "mu=1000+(5*600)\n",
    "std=5*25\n",
    "df=n-1"
   ]
  },
  {
   "cell_type": "code",
   "execution_count": 16,
   "id": "0c9eee27-eddc-4561-b5ba-1e2cc353f53f",
   "metadata": {},
   "outputs": [
    {
     "data": {
      "text/plain": [
       "4000"
      ]
     },
     "execution_count": 16,
     "metadata": {},
     "output_type": "execute_result"
    }
   ],
   "source": [
    "mu"
   ]
  },
  {
   "cell_type": "code",
   "execution_count": 17,
   "id": "b3f048cf-950c-4bc9-93da-5464cb88e7c6",
   "metadata": {},
   "outputs": [
    {
     "data": {
      "text/plain": [
       "125"
      ]
     },
     "execution_count": 17,
     "metadata": {},
     "output_type": "execute_result"
    }
   ],
   "source": [
    "std"
   ]
  },
  {
   "cell_type": "code",
   "execution_count": 18,
   "id": "bdc9dd1c-150a-48d6-8c73-86747e334286",
   "metadata": {},
   "outputs": [
    {
     "data": {
      "text/plain": [
       "24"
      ]
     },
     "execution_count": 18,
     "metadata": {},
     "output_type": "execute_result"
    }
   ],
   "source": [
    "df"
   ]
  },
  {
   "cell_type": "markdown",
   "id": "62059b38-7664-4e40-a041-fcc6fec8933d",
   "metadata": {},
   "source": [
    "## 2.Calculate the test statistics"
   ]
  },
  {
   "cell_type": "code",
   "execution_count": 19,
   "id": "d9109530-6460-46ab-bf9f-19cfbf182496",
   "metadata": {},
   "outputs": [],
   "source": [
    "import numpy as np\n"
   ]
  },
  {
   "cell_type": "code",
   "execution_count": 20,
   "id": "94721368-7ef8-481a-a17f-81e95369f0d2",
   "metadata": {},
   "outputs": [
    {
     "data": {
      "text/plain": [
       "np.float64(25.0)"
      ]
     },
     "execution_count": 20,
     "metadata": {},
     "output_type": "execute_result"
    }
   ],
   "source": [
    "SE=std/np.sqrt(n)\n",
    "SE"
   ]
  },
  {
   "cell_type": "code",
   "execution_count": 21,
   "id": "1c685362-8e77-480e-b5e5-9d485e5b3287",
   "metadata": {},
   "outputs": [],
   "source": [
    "## formula=(tstats=(x_bar-mu)/(s/np.sqrt(n)))"
   ]
  },
  {
   "cell_type": "code",
   "execution_count": 22,
   "id": "5ca2b836-2312-4c63-9911-6497ef7c653e",
   "metadata": {},
   "outputs": [
    {
     "data": {
      "text/plain": [
       "np.float64(-38.0)"
      ]
     },
     "execution_count": 22,
     "metadata": {},
     "output_type": "execute_result"
    }
   ],
   "source": [
    "tstats=(x_bar-mu)/SE\n",
    "tstats"
   ]
  },
  {
   "cell_type": "markdown",
   "id": "be81c001-91d1-42d0-bbb2-060e4a50c3bf",
   "metadata": {},
   "source": [
    "## 3. Determine the Critical Value:"
   ]
  },
  {
   "cell_type": "code",
   "execution_count": 23,
   "id": "79fd8bb0-7669-4f96-bb9a-7004ee2188ce",
   "metadata": {},
   "outputs": [],
   "source": [
    "import scipy.stats as stats"
   ]
  },
  {
   "cell_type": "code",
   "execution_count": 24,
   "id": "237fb802-fd47-4486-befd-addf078f288a",
   "metadata": {},
   "outputs": [],
   "source": [
    "## given data\n",
    "alpha=0.05\n",
    "CI=1-alpha"
   ]
  },
  {
   "cell_type": "code",
   "execution_count": 25,
   "id": "d24c5f71-4aa4-4a58-87a7-8db9e6a60d07",
   "metadata": {},
   "outputs": [
    {
     "data": {
      "text/plain": [
       "np.float64(2.0638985616280205)"
      ]
     },
     "execution_count": 25,
     "metadata": {},
     "output_type": "execute_result"
    }
   ],
   "source": [
    "t_critical=stats.t.ppf(1 - alpha / 2,df) \n",
    "t_critical"
   ]
  },
  {
   "cell_type": "markdown",
   "id": "a9e03a0c-432f-4b86-b3a9-e77d9105ebc6",
   "metadata": {},
   "source": [
    " ## 4. Make a Decision:"
   ]
  },
  {
   "cell_type": "code",
   "execution_count": 26,
   "id": "73e1f73e-cf90-4274-af6a-c0334c8a1ac5",
   "metadata": {},
   "outputs": [
    {
     "data": {
      "text/plain": [
       "np.True_"
      ]
     },
     "execution_count": 26,
     "metadata": {},
     "output_type": "execute_result"
    }
   ],
   "source": [
    "tstats < t_critical"
   ]
  },
  {
   "cell_type": "code",
   "execution_count": 27,
   "id": "9a0a916f-ea5b-4dcb-bf44-dd037bf6a874",
   "metadata": {
    "scrolled": true
   },
   "outputs": [
    {
     "name": "stdout",
     "output_type": "stream",
     "text": [
      "Reject the null hypothesis.\n"
     ]
    }
   ],
   "source": [
    "if tstats < t_critical:\n",
    "    print(\"Reject the null hypothesis.\")\n",
    "    conclusion = \"There is strong evidence to support the restaurant owners' claim that the weekly operating costs are higher than the model suggests.\"\n",
    "else:\n",
    "    print(\"Fail to reject the null hypothesis.\")\n",
    "    conclusion = \"There is not enough evidence to support the restaurant owners' claim that the weekly operating costs are higher than the model suggests.\""
   ]
  },
  {
   "cell_type": "markdown",
   "id": "3c95b73d-9181-4d64-99ff-fddd1f61540b",
   "metadata": {},
   "source": [
    " * Tstats < t critical = reject null hypothesis (hO)\n",
    " * therefore,The mean weekly operating cost has increased from the theoretical model, M > W= $1,000 + $5X.\n"
   ]
  },
  {
   "cell_type": "markdown",
   "id": "51a4be98-d087-42e9-a1f1-5055ab0719d3",
   "metadata": {},
   "source": [
    "## 5.Conclusion"
   ]
  },
  {
   "cell_type": "markdown",
   "id": "017926dd-5bde-4223-87ac-7ad95029ff8a",
   "metadata": {},
   "source": [
    "There is strong evidence to support the restaurant owners' claim that the weekly operating costs are higher than the model based on the hypothesis testing"
   ]
  },
  {
   "cell_type": "code",
   "execution_count": null,
   "id": "52f1505b-e91f-484f-b4d5-e67b4195a889",
   "metadata": {},
   "outputs": [],
   "source": []
  },
  {
   "cell_type": "code",
   "execution_count": null,
   "id": "a9db2cb8-65e9-4732-898e-f738f5e93e7c",
   "metadata": {},
   "outputs": [],
   "source": []
  }
 ],
 "metadata": {
  "kernelspec": {
   "display_name": "Python 3 (ipykernel)",
   "language": "python",
   "name": "python3"
  },
  "language_info": {
   "codemirror_mode": {
    "name": "ipython",
    "version": 3
   },
   "file_extension": ".py",
   "mimetype": "text/x-python",
   "name": "python",
   "nbconvert_exporter": "python",
   "pygments_lexer": "ipython3",
   "version": "3.12.4"
  }
 },
 "nbformat": 4,
 "nbformat_minor": 5
}
