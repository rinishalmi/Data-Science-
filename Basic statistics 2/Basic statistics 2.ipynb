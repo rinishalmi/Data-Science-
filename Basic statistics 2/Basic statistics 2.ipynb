{
 "cells": [
  {
   "cell_type": "markdown",
   "id": "fc9dd7a0-8f0f-40fc-b71c-bca01d67a174",
   "metadata": {},
   "source": [
    "# Estimation And Confidence Intervals"
   ]
  },
  {
   "cell_type": "code",
   "execution_count": 15,
   "id": "de5772b8-4202-476a-8a33-e32b892e395d",
   "metadata": {},
   "outputs": [],
   "source": [
    "import math\n",
    "import numpy as np\n",
    "from scipy.stats import t\n",
    "import scipy.stats as stats"
   ]
  },
  {
   "cell_type": "code",
   "execution_count": 2,
   "id": "e3a514d6-d176-4d27-8640-b43f82aada85",
   "metadata": {},
   "outputs": [],
   "source": [
    "data=np.array([1.13, 1.55, 1.43, 0.92, 1.25, 1.36, 1.32, 0.85, 1.07, 1.48, 1.20, 1.33, 1.18, 1.22, 1.29])"
   ]
  },
  {
   "cell_type": "code",
   "execution_count": 3,
   "id": "86fe0309-cdc8-4bbf-bde2-ca1a89c667dd",
   "metadata": {},
   "outputs": [
    {
     "data": {
      "text/plain": [
       "array([1.13, 1.55, 1.43, 0.92, 1.25, 1.36, 1.32, 0.85, 1.07, 1.48, 1.2 ,\n",
       "       1.33, 1.18, 1.22, 1.29])"
      ]
     },
     "execution_count": 3,
     "metadata": {},
     "output_type": "execute_result"
    }
   ],
   "source": [
    "data"
   ]
  },
  {
   "cell_type": "code",
   "execution_count": 5,
   "id": "4dd8b26b-acce-4cee-8e6e-fbc0d8e6f5a0",
   "metadata": {},
   "outputs": [
    {
     "data": {
      "text/plain": [
       "15"
      ]
     },
     "execution_count": 5,
     "metadata": {},
     "output_type": "execute_result"
    }
   ],
   "source": [
    "len(data)"
   ]
  },
  {
   "cell_type": "code",
   "execution_count": 7,
   "id": "92b5ce7d-ed9f-4885-b1ae-233508c3398a",
   "metadata": {},
   "outputs": [
    {
     "data": {
      "text/plain": [
       "1"
      ]
     },
     "execution_count": 7,
     "metadata": {},
     "output_type": "execute_result"
    }
   ],
   "source": [
    "data.ndim ##dimension"
   ]
  },
  {
   "cell_type": "code",
   "execution_count": 32,
   "id": "2752e051-27e1-4d9b-a96f-783f7c716368",
   "metadata": {},
   "outputs": [
    {
     "data": {
      "text/plain": [
       "1.2386666666666666"
      ]
     },
     "execution_count": 32,
     "metadata": {},
     "output_type": "execute_result"
    }
   ],
   "source": [
    "mean=data.mean()\n",
    "mean"
   ]
  },
  {
   "cell_type": "markdown",
   "id": "79e69ca4-b5cb-4700-8d75-b54a3a275b8b",
   "metadata": {},
   "source": [
    "## a. Build 99% Confidence Interval Using Sample Standard Deviation"
   ]
  },
  {
   "cell_type": "code",
   "execution_count": 17,
   "id": "235648d5-7d32-4b09-97c9-08c3561dc366",
   "metadata": {},
   "outputs": [],
   "source": [
    "## here the population standard deviation is unknown and the sample size n=15 (n<30)"
   ]
  },
  {
   "cell_type": "code",
   "execution_count": 35,
   "id": "e0fc0d7c-feb4-490f-9a1b-c4622838ba3a",
   "metadata": {},
   "outputs": [],
   "source": [
    "##given data\n",
    "CI=0.99 #(confidence interval)\n",
    "alpha=1-0.99\n",
    "n=len(data)\n",
    "df=n-1 ##(degree of freedom)"
   ]
  },
  {
   "cell_type": "code",
   "execution_count": 19,
   "id": "179f37a4-0b18-4643-b609-62da7473c56f",
   "metadata": {},
   "outputs": [
    {
     "data": {
      "text/plain": [
       "0.19316412956959936"
      ]
     },
     "execution_count": 19,
     "metadata": {},
     "output_type": "execute_result"
    }
   ],
   "source": [
    "## to find population std deviation\n",
    "std=np.std(data,ddof=1) ##ddof =delta degree of freedom\n",
    "std"
   ]
  },
  {
   "cell_type": "code",
   "execution_count": 27,
   "id": "047f9933-c4b8-4735-ae62-ec6470b5da7e",
   "metadata": {},
   "outputs": [
    {
     "data": {
      "text/plain": [
       "2.976842734370834"
      ]
     },
     "execution_count": 27,
     "metadata": {},
     "output_type": "execute_result"
    }
   ],
   "source": [
    "tcritical=stats.t.ppf(1-(1-CI)/2,df) ##1-(alpha)/2,df)\n",
    "tcritical"
   ]
  },
  {
   "cell_type": "code",
   "execution_count": 28,
   "id": "596057d9-39c0-4a6f-a110-980963e1a115",
   "metadata": {},
   "outputs": [
    {
     "data": {
      "text/plain": [
       "0.04987476379384733"
      ]
     },
     "execution_count": 28,
     "metadata": {},
     "output_type": "execute_result"
    }
   ],
   "source": [
    "## to find Standard Error(SE)\n",
    "SE=std/math.sqrt(n)\n",
    "SE"
   ]
  },
  {
   "cell_type": "code",
   "execution_count": 29,
   "id": "ab12b6ea-fd86-49bd-a1e8-ead626d990c8",
   "metadata": {},
   "outputs": [
    {
     "data": {
      "text/plain": [
       "0.14846932822817596"
      ]
     },
     "execution_count": 29,
     "metadata": {},
     "output_type": "execute_result"
    }
   ],
   "source": [
    "margin_of_error=tcritical*SE\n",
    "margin_of_error"
   ]
  },
  {
   "cell_type": "code",
   "execution_count": 33,
   "id": "2916c212-c908-4bea-9d71-185ec91d29a1",
   "metadata": {},
   "outputs": [],
   "source": [
    "upper_limit= mean+margin_of_error\n",
    "lower_limit= mean-margin_of_error"
   ]
  },
  {
   "cell_type": "code",
   "execution_count": 38,
   "id": "4ce8eab5-a4b8-42e9-a989-060816a215f4",
   "metadata": {},
   "outputs": [
    {
     "name": "stdout",
     "output_type": "stream",
     "text": [
      "99% Confidence Interval using Sample Standard Deviation:\n",
      "Lower limit:1.0902\n",
      "Upper limit:1.3871\n"
     ]
    }
   ],
   "source": [
    "print(\"99% Confidence Interval using Sample Standard Deviation:\")\n",
    "print(f\"Lower limit:{lower_limit:.4f}\")\n",
    "print(f\"Upper limit:{upper_limit:.4f}\")"
   ]
  },
  {
   "cell_type": "markdown",
   "id": "b908b4df-d7ff-434c-9cce-7cc35c61ab54",
   "metadata": {},
   "source": [
    "## b. Build 99% Confidence Interval Using Known Population Standard Deviation"
   ]
  },
  {
   "cell_type": "markdown",
   "id": "98021ff2-4033-497b-90c9-a186ddf19bbd",
   "metadata": {},
   "source": [
    "known population standard deviation is 0.2 million ,as it is known we use Z-distribution to construct the Confidence Interval"
   ]
  },
  {
   "cell_type": "code",
   "execution_count": 40,
   "id": "ea6008a8-d3ca-4b7f-b096-e3097c18ac26",
   "metadata": {},
   "outputs": [],
   "source": [
    "std=0.2\n",
    "CI=0.99"
   ]
  },
  {
   "cell_type": "code",
   "execution_count": 41,
   "id": "a0306107-09e4-4505-aacd-34faa49cbdc7",
   "metadata": {},
   "outputs": [
    {
     "data": {
      "text/plain": [
       "0.051639777949432225"
      ]
     },
     "execution_count": 41,
     "metadata": {},
     "output_type": "execute_result"
    }
   ],
   "source": [
    "SE=std/math.sqrt(n)\n",
    "SE"
   ]
  },
  {
   "cell_type": "code",
   "execution_count": 42,
   "id": "c5c81742-6f41-477a-9672-6d3be890c035",
   "metadata": {},
   "outputs": [
    {
     "data": {
      "text/plain": [
       "2.5758293035489004"
      ]
     },
     "execution_count": 42,
     "metadata": {},
     "output_type": "execute_result"
    }
   ],
   "source": [
    "z_critical=stats.norm.ppf(1-(1-CI)/2)\n",
    "z_critical"
   ]
  },
  {
   "cell_type": "code",
   "execution_count": 43,
   "id": "149732c2-c7ba-4def-9481-26edd25344e1",
   "metadata": {},
   "outputs": [
    {
     "data": {
      "text/plain": [
       "0.13301525327090588"
      ]
     },
     "execution_count": 43,
     "metadata": {},
     "output_type": "execute_result"
    }
   ],
   "source": [
    "margin_of_error=z_critical*SE\n",
    "margin_of_error"
   ]
  },
  {
   "cell_type": "code",
   "execution_count": 44,
   "id": "4957dd40-4b5f-4854-8103-c4410c72ad4a",
   "metadata": {},
   "outputs": [],
   "source": [
    "lower_limit=mean-margin_of_error\n",
    "upper_limit=mean+margin_of_error"
   ]
  },
  {
   "cell_type": "code",
   "execution_count": 45,
   "id": "1306c44f-dee5-4aea-a295-19ff03783a33",
   "metadata": {},
   "outputs": [
    {
     "name": "stdout",
     "output_type": "stream",
     "text": [
      "\n",
      "99% Confidence Interval Using Known Population Standard Deviation:\n",
      "Lower limit:1.1057\n",
      "Upper limit:1.3717\n"
     ]
    }
   ],
   "source": [
    "print(\"\\n99% Confidence Interval Using Known Population Standard Deviation:\")\n",
    "print(f\"Lower limit:{lower_limit:.4f}\")\n",
    "print(f\"Upper limit:{upper_limit:.4f}\")"
   ]
  },
  {
   "cell_type": "code",
   "execution_count": 46,
   "id": "d7f5f8c8-40c2-4b54-85e2-3bb6623f2321",
   "metadata": {},
   "outputs": [
    {
     "name": "stdout",
     "output_type": "stream",
     "text": [
      "confidence interval for the mean number of characters printed before failure: 1.1057, 1.3717\n"
     ]
    }
   ],
   "source": [
    "print(f\"confidence interval for the mean number of characters printed before failure: {lower_limit:.4f}, {upper_limit:.4f}\")"
   ]
  },
  {
   "cell_type": "code",
   "execution_count": null,
   "id": "916f0817-5b76-4ffc-9803-df2d6a911284",
   "metadata": {},
   "outputs": [],
   "source": []
  }
 ],
 "metadata": {
  "kernelspec": {
   "display_name": "Python 3 (ipykernel)",
   "language": "python",
   "name": "python3"
  },
  "language_info": {
   "codemirror_mode": {
    "name": "ipython",
    "version": 3
   },
   "file_extension": ".py",
   "mimetype": "text/x-python",
   "name": "python",
   "nbconvert_exporter": "python",
   "pygments_lexer": "ipython3",
   "version": "3.12.4"
  }
 },
 "nbformat": 4,
 "nbformat_minor": 5
}
